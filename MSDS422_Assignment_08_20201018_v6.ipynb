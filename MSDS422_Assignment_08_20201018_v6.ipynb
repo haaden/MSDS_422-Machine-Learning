{
  "nbformat": 4,
  "nbformat_minor": 0,
  "metadata": {
    "colab": {
      "name": "MSDS422_Assignment_08_20201018_v6.ipynb",
      "provenance": [],
      "collapsed_sections": [],
      "toc_visible": true,
      "machine_shape": "hm",
      "include_colab_link": true
    },
    "kernelspec": {
      "display_name": "Python 3",
      "language": "python",
      "name": "python3"
    },
    "language_info": {
      "codemirror_mode": {
        "name": "ipython",
        "version": 3
      },
      "file_extension": ".py",
      "mimetype": "text/x-python",
      "name": "python",
      "nbconvert_exporter": "python",
      "pygments_lexer": "ipython3",
      "version": "3.6.9"
    },
    "accelerator": "TPU"
  },
  "cells": [
    {
      "cell_type": "markdown",
      "metadata": {
        "id": "view-in-github",
        "colab_type": "text"
      },
      "source": [
        "<a href=\"https://colab.research.google.com/github/haaden/MSDS_422-Machine-Learning/blob/main/MSDS422_Assignment_08_20201018_v6.ipynb\" target=\"_parent\"><img src=\"https://colab.research.google.com/assets/colab-badge.svg\" alt=\"Open In Colab\"/></a>"
      ]
    },
    {
      "cell_type": "markdown",
      "metadata": {
        "id": "teg2HXwqxNen"
      },
      "source": [
        "<img src=\"https://github.com/djp840/MSDS_458_Public/blob/master/images/NorthwesternHeader.png?raw=1\">"
      ]
    },
    {
      "cell_type": "markdown",
      "metadata": {
        "id": "a0YdJhiGxNeo"
      },
      "source": [
        "DATE: October 18, 2020"
      ]
    },
    {
      "cell_type": "markdown",
      "metadata": {
        "id": "hh3sJS-RxNep"
      },
      "source": [
        "#### MSDS422 Assignment 08:\n",
        "\n",
        "Binary classification of movie reviews as positive or negative using the text of the review.\n",
        "Large Movie Review Dataset. This is a dataset for binary sentiment classification containing substantially more data than previous benchmark datasets. We provide a set of 25,000 highly polar movie reviews for training, and 25,000 for testing. There is additional unlabeled data for use as well.\n",
        "\n",
        "<div class=\"alert alert-block alert-success\">\n",
        "    <b>More Technical</b>: Throughout the notebook. This types of boxes provide more technical details and extra references about what you are seeing. They contain helpful tips, but you can safely skip them the first time you run through the code.\n",
        "</div>\n"
      ]
    },
    {
      "cell_type": "code",
      "metadata": {
        "id": "auDI6TnaxZYI",
        "colab": {
          "base_uri": "https://localhost:8080/"
        },
        "outputId": "277910bc-0d77-4f7e-fa6d-f8ada0a8d671"
      },
      "source": [
        "pip install plot_keras_history"
      ],
      "execution_count": null,
      "outputs": [
        {
          "output_type": "stream",
          "text": [
            "Collecting plot_keras_history\n",
            "  Downloading https://files.pythonhosted.org/packages/9d/99/304fd7b963947e5fb33d414b378926c0c1da85c7346c9071cbc7c999ec4a/plot_keras_history-1.1.24.tar.gz\n",
            "Requirement already satisfied: matplotlib in /usr/local/lib/python3.6/dist-packages (from plot_keras_history) (3.2.2)\n",
            "Requirement already satisfied: pandas in /usr/local/lib/python3.6/dist-packages (from plot_keras_history) (1.1.4)\n",
            "Requirement already satisfied: scipy in /usr/local/lib/python3.6/dist-packages (from plot_keras_history) (1.4.1)\n",
            "Collecting sanitize_ml_labels\n",
            "  Downloading https://files.pythonhosted.org/packages/6c/a5/7bdbdcf53cd119f4c8a1a0bf595f042a612bd7e095359057a5b29e8782e2/sanitize_ml_labels-1.0.21.tar.gz\n",
            "Requirement already satisfied: numpy>=1.11 in /usr/local/lib/python3.6/dist-packages (from matplotlib->plot_keras_history) (1.18.5)\n",
            "Requirement already satisfied: cycler>=0.10 in /usr/local/lib/python3.6/dist-packages (from matplotlib->plot_keras_history) (0.10.0)\n",
            "Requirement already satisfied: kiwisolver>=1.0.1 in /usr/local/lib/python3.6/dist-packages (from matplotlib->plot_keras_history) (1.3.1)\n",
            "Requirement already satisfied: python-dateutil>=2.1 in /usr/local/lib/python3.6/dist-packages (from matplotlib->plot_keras_history) (2.8.1)\n",
            "Requirement already satisfied: pyparsing!=2.0.4,!=2.1.2,!=2.1.6,>=2.0.1 in /usr/local/lib/python3.6/dist-packages (from matplotlib->plot_keras_history) (2.4.7)\n",
            "Requirement already satisfied: pytz>=2017.2 in /usr/local/lib/python3.6/dist-packages (from pandas->plot_keras_history) (2018.9)\n",
            "Collecting compress_json\n",
            "  Downloading https://files.pythonhosted.org/packages/c0/9d/1a79dbc3b9d69c57be363b4cc8bd6f278f919a0973f46c7bb831438c9333/compress_json-1.0.4.tar.gz\n",
            "Requirement already satisfied: six in /usr/local/lib/python3.6/dist-packages (from cycler>=0.10->matplotlib->plot_keras_history) (1.15.0)\n",
            "Building wheels for collected packages: plot-keras-history, sanitize-ml-labels, compress-json\n",
            "  Building wheel for plot-keras-history (setup.py) ... \u001b[?25l\u001b[?25hdone\n",
            "  Created wheel for plot-keras-history: filename=plot_keras_history-1.1.24-cp36-none-any.whl size=6506 sha256=79e6ed2b6da2ba8f3099014c990cbdbb0dec4a8b853d24e5f3befadb7135dd01\n",
            "  Stored in directory: /root/.cache/pip/wheels/a9/1a/d2/1264c7b2ededd8fab16491e873fb037693d6f8c93f96b72ffa\n",
            "  Building wheel for sanitize-ml-labels (setup.py) ... \u001b[?25l\u001b[?25hdone\n",
            "  Created wheel for sanitize-ml-labels: filename=sanitize_ml_labels-1.0.21-cp36-none-any.whl size=6975 sha256=3e0bdac56b298b86c581bb182644e9e122f7fb0309214541e1a935297c91d942\n",
            "  Stored in directory: /root/.cache/pip/wheels/97/df/a7/a7ffb423fcdfabbffa6e7d36eee044a9f904f8d0ed246eaf84\n",
            "  Building wheel for compress-json (setup.py) ... \u001b[?25l\u001b[?25hdone\n",
            "  Created wheel for compress-json: filename=compress_json-1.0.4-cp36-none-any.whl size=4586 sha256=7301c8749e0af82176a1b1d18c46138f50f89c9c632e01c5f684e4306b252d4c\n",
            "  Stored in directory: /root/.cache/pip/wheels/83/ec/21/51460dd508e4a152c0643946c21fae84eb3391171164d35745\n",
            "Successfully built plot-keras-history sanitize-ml-labels compress-json\n",
            "Installing collected packages: compress-json, sanitize-ml-labels, plot-keras-history\n",
            "Successfully installed compress-json-1.0.4 plot-keras-history-1.1.24 sanitize-ml-labels-1.0.21\n"
          ],
          "name": "stdout"
        }
      ]
    },
    {
      "cell_type": "code",
      "metadata": {
        "id": "wTfT-mJM4nmN"
      },
      "source": [
        "from sklearn.metrics import classification_report\n",
        "from mlxtend.plotting import plot_confusion_matrix as pcm\n",
        "from sklearn.metrics import confusion_matrix"
      ],
      "execution_count": null,
      "outputs": []
    },
    {
      "cell_type": "code",
      "metadata": {
        "id": "GareCPoIxNep"
      },
      "source": [
        "# Helper libraries\n",
        "import datetime\n",
        "from packaging import version\n",
        "import matplotlib.pyplot as plt\n",
        "from mpl_toolkits.mplot3d import Axes3D\n",
        "import seaborn as sns\n",
        "\n",
        "from collections import Counter\n",
        "import numpy as np\n",
        "import pandas as pd\n",
        "\n",
        "# TensorFlow and tf.keras\n",
        "import tensorflow as tf\n",
        "from tensorflow.keras.utils import to_categorical\n",
        "from tensorflow import keras\n",
        "from tensorflow.keras import models\n",
        "from tensorflow.keras.models import Sequential\n",
        "from tensorflow.keras.layers import Embedding, SimpleRNN,LSTM\n",
        "from tensorflow.keras.layers import Dense, Flatten\n",
        "from tensorflow.keras.layers import Conv2D, MaxPooling2D, BatchNormalization\n",
        "from tensorflow.keras.layers import Dropout, Flatten, Input, Dense\n",
        "import tensorflow_datasets as tfds\n",
        "from plot_keras_history import plot_history"
      ],
      "execution_count": null,
      "outputs": []
    },
    {
      "cell_type": "code",
      "metadata": {
        "id": "ch8UO3yhxNes"
      },
      "source": [
        "%matplotlib inline\n",
        "np.set_printoptions(precision=3, suppress=True)"
      ],
      "execution_count": null,
      "outputs": []
    },
    {
      "cell_type": "markdown",
      "metadata": {
        "id": "8OGEy0DcxNev"
      },
      "source": [
        "### Verify TensorFlow Version and Keras Version"
      ]
    },
    {
      "cell_type": "code",
      "metadata": {
        "id": "UzN8A3W7xNev",
        "colab": {
          "base_uri": "https://localhost:8080/"
        },
        "outputId": "b489ed65-70bf-40f4-a19a-1ec589de70ea"
      },
      "source": [
        "print(\"This notebook requires TensorFlow 2.0 or above\")\n",
        "print(\"TensorFlow version: \", tf.__version__)\n",
        "assert version.parse(tf.__version__).release[0] >=2"
      ],
      "execution_count": null,
      "outputs": [
        {
          "output_type": "stream",
          "text": [
            "This notebook requires TensorFlow 2.0 or above\n",
            "TensorFlow version:  2.3.0\n"
          ],
          "name": "stdout"
        }
      ]
    },
    {
      "cell_type": "code",
      "metadata": {
        "id": "Q3RsFXrbxNey",
        "colab": {
          "base_uri": "https://localhost:8080/"
        },
        "outputId": "ca1dbe18-283e-42f0-d8a2-a8985e03a995"
      },
      "source": [
        "print(\"Keras version: \", keras.__version__)"
      ],
      "execution_count": null,
      "outputs": [
        {
          "output_type": "stream",
          "text": [
            "Keras version:  2.4.0\n"
          ],
          "name": "stdout"
        }
      ]
    },
    {
      "cell_type": "markdown",
      "metadata": {
        "id": "AqnCdwXQxNe1"
      },
      "source": [
        "<div class=\"alert alert-block alert-info\">\n",
        "    <b>Suppress warning messages</b></div>"
      ]
    },
    {
      "cell_type": "code",
      "metadata": {
        "id": "enT-90kHxNe1"
      },
      "source": [
        "def warn(*args, **kwargs):\n",
        "    pass\n",
        "import warnings\n",
        "warnings.warn = warn"
      ],
      "execution_count": null,
      "outputs": []
    },
    {
      "cell_type": "markdown",
      "metadata": {
        "id": "WMy5cEDUxNe3"
      },
      "source": [
        "### Mount Google Drive to Colab Environment"
      ]
    },
    {
      "cell_type": "code",
      "metadata": {
        "id": "tgsuofaMxNe3"
      },
      "source": [
        "#from google.colab import drive\n",
        "#drive.mount('/content/gdrive')"
      ],
      "execution_count": null,
      "outputs": []
    },
    {
      "cell_type": "code",
      "metadata": {
        "id": "6bqLRk1UxNe5"
      },
      "source": [
        "def plot_graphs(history, metric):\n",
        "  plt.plot(history.history[metric])\n",
        "  plt.plot(history.history['val_'+metric], '')\n",
        "  plt.xlabel(\"Epochs\")\n",
        "  plt.ylabel(metric)\n",
        "  plt.legend([metric, 'val_'+metric])\n",
        "  plt.show()"
      ],
      "execution_count": null,
      "outputs": []
    },
    {
      "cell_type": "markdown",
      "metadata": {
        "id": "ipIZHsg7xNe7"
      },
      "source": [
        "### Download and Load IMDB dataset\n",
        "<div class=\"alert alert-block alert-success\">\n",
        "This text classification tutorial trains a <b>RNN - Recurrent Neural Network</b><br><br>\n",
        "https://developers.google.com/machine-learning/glossary/#recurrent_neural_network <br><br> <b>IMDB large movie review dataset</b><br>\n",
        "http://ai.stanford.edu/~amaas/data/sentiment/) for sentiment analysis</div>"
      ]
    },
    {
      "cell_type": "code",
      "metadata": {
        "id": "vBfWc_pNMU3g"
      },
      "source": [
        "#train_dataset, validate_dataset, test_dataset= tfds.load(name='imdb_reviews/subwords8k',  split=('train[:60%]', 'train[60%:]', 'test'),  as_supervised=True)"
      ],
      "execution_count": null,
      "outputs": []
    },
    {
      "cell_type": "code",
      "metadata": {
        "id": "T5viMPvQNjwZ",
        "colab": {
          "base_uri": "https://localhost:8080/"
        },
        "outputId": "e3c7036c-4a73-423d-a082-f59834cbb319"
      },
      "source": [
        "dataset['train']"
      ],
      "execution_count": null,
      "outputs": [
        {
          "output_type": "execute_result",
          "data": {
            "text/plain": [
              "<PrefetchDataset shapes: ((None,), ()), types: (tf.int64, tf.int64)>"
            ]
          },
          "metadata": {
            "tags": []
          },
          "execution_count": 117
        }
      ]
    },
    {
      "cell_type": "code",
      "metadata": {
        "id": "YFDnQfh-xNe7",
        "colab": {
          "base_uri": "https://localhost:8080/"
        },
        "outputId": "cfaa168f-0339-4d73-b669-bfd51d2541c1"
      },
      "source": [
        "dataset, info = tfds.load('imdb_reviews/subwords8k', with_info=True,\n",
        "                          as_supervised=True)\n",
        "train_dataset, test_dataset = dataset['train'],  dataset['test']"
      ],
      "execution_count": null,
      "outputs": [
        {
          "output_type": "stream",
          "text": [
            "WARNING:absl:TFDS datasets with text encoding are deprecated and will be removed in a future version. Instead, you should use the plain text version and tokenize the text using `tensorflow_text` (See: https://www.tensorflow.org/tutorials/tensorflow_text/intro#tfdata_example)\n"
          ],
          "name": "stderr"
        }
      ]
    },
    {
      "cell_type": "markdown",
      "metadata": {
        "id": "d3HbvrUgxNe9"
      },
      "source": [
        "  <div class=\"alert alert-block alert-info\"> \n",
        " The dataset `info` includes the encoder (a `tfds.features.text.SubwordTextEncoder`)</div>"
      ]
    },
    {
      "cell_type": "code",
      "metadata": {
        "id": "1xUOe42mxNe9"
      },
      "source": [
        "encoder = info.features['text'].encoder"
      ],
      "execution_count": null,
      "outputs": []
    },
    {
      "cell_type": "code",
      "metadata": {
        "id": "mgpAjy4dxNe-",
        "colab": {
          "base_uri": "https://localhost:8080/"
        },
        "outputId": "f9a117c1-8cc6-4caa-9497-2464c54925a2"
      },
      "source": [
        "print('Vocabulary size: {}'.format(encoder.vocab_size))"
      ],
      "execution_count": null,
      "outputs": [
        {
          "output_type": "stream",
          "text": [
            "Vocabulary size: 8185\n"
          ],
          "name": "stdout"
        }
      ]
    },
    {
      "cell_type": "markdown",
      "metadata": {
        "id": "wyEPAzFHxNfA"
      },
      "source": [
        "#### This text encoder will reversibly encode any string, falling back to byte-encoding if necessary."
      ]
    },
    {
      "cell_type": "code",
      "metadata": {
        "id": "tFaR9R0GxNfA",
        "colab": {
          "base_uri": "https://localhost:8080/"
        },
        "outputId": "9b98355d-c931-4ade-b52e-272be49805f6"
      },
      "source": [
        "sample_string = 'Hello Northwestern Data Science Students.'\n",
        "\n",
        "encoded_string = encoder.encode(sample_string)\n",
        "print('Encoded string is {}'.format(encoded_string))\n",
        "\n",
        "original_string = encoder.decode(encoded_string)\n",
        "print('The original string: \"{}\"'.format(original_string))"
      ],
      "execution_count": null,
      "outputs": [
        {
          "output_type": "stream",
          "text": [
            "Encoded string is [4025, 222, 4277, 4413, 878, 1848, 2675, 2975, 2509, 6623, 8044, 7975]\n",
            "The original string: \"Hello Northwestern Data Science Students.\"\n"
          ],
          "name": "stdout"
        }
      ]
    },
    {
      "cell_type": "code",
      "metadata": {
        "id": "Kf-E-ZErxNfC"
      },
      "source": [
        "assert original_string == sample_string"
      ],
      "execution_count": null,
      "outputs": []
    },
    {
      "cell_type": "code",
      "metadata": {
        "id": "ygYjcu9-xNfD",
        "colab": {
          "base_uri": "https://localhost:8080/"
        },
        "outputId": "7964e1be-2b91-4c83-9fb3-6b26aca7d3b6"
      },
      "source": [
        "for index in encoded_string:\n",
        "  print('{} ----> {}'.format(index, encoder.decode([index])))"
      ],
      "execution_count": null,
      "outputs": [
        {
          "output_type": "stream",
          "text": [
            "4025 ----> Hell\n",
            "222 ----> o \n",
            "4277 ----> North\n",
            "4413 ----> western \n",
            "878 ----> Da\n",
            "1848 ----> ta \n",
            "2675 ----> Sci\n",
            "2975 ----> ence \n",
            "2509 ----> Stu\n",
            "6623 ----> dent\n",
            "8044 ----> s\n",
            "7975 ----> .\n"
          ],
          "name": "stdout"
        }
      ]
    },
    {
      "cell_type": "code",
      "metadata": {
        "id": "jvGdKwOWywfw",
        "colab": {
          "base_uri": "https://localhost:8080/"
        },
        "outputId": "dca17cff-32c1-4667-a28a-2efe7ad9ca6b"
      },
      "source": [
        "info"
      ],
      "execution_count": null,
      "outputs": [
        {
          "output_type": "execute_result",
          "data": {
            "text/plain": [
              "tfds.core.DatasetInfo(\n",
              "    name='imdb_reviews',\n",
              "    version=1.0.0,\n",
              "    description='Large Movie Review Dataset.\n",
              "This is a dataset for binary sentiment classification containing substantially more data than previous benchmark datasets. We provide a set of 25,000 highly polar movie reviews for training, and 25,000 for testing. There is additional unlabeled data for use as well.',\n",
              "    homepage='http://ai.stanford.edu/~amaas/data/sentiment/',\n",
              "    features=FeaturesDict({\n",
              "        'label': ClassLabel(shape=(), dtype=tf.int64, num_classes=2),\n",
              "        'text': Text(shape=(None,), dtype=tf.int64, encoder=<SubwordTextEncoder vocab_size=8185>),\n",
              "    }),\n",
              "    total_num_examples=100000,\n",
              "    splits={\n",
              "        'test': 25000,\n",
              "        'train': 25000,\n",
              "        'unsupervised': 50000,\n",
              "    },\n",
              "    supervised_keys=('text', 'label'),\n",
              "    citation=\"\"\"@InProceedings{maas-EtAl:2011:ACL-HLT2011,\n",
              "      author    = {Maas, Andrew L.  and  Daly, Raymond E.  and  Pham, Peter T.  and  Huang, Dan  and  Ng, Andrew Y.  and  Potts, Christopher},\n",
              "      title     = {Learning Word Vectors for Sentiment Analysis},\n",
              "      booktitle = {Proceedings of the 49th Annual Meeting of the Association for Computational Linguistics: Human Language Technologies},\n",
              "      month     = {June},\n",
              "      year      = {2011},\n",
              "      address   = {Portland, Oregon, USA},\n",
              "      publisher = {Association for Computational Linguistics},\n",
              "      pages     = {142--150},\n",
              "      url       = {http://www.aclweb.org/anthology/P11-1015}\n",
              "    }\"\"\",\n",
              "    redistribution_info=,\n",
              ")"
            ]
          },
          "metadata": {
            "tags": []
          },
          "execution_count": 26
        }
      ]
    },
    {
      "cell_type": "markdown",
      "metadata": {
        "id": "O1j524GgxNfF"
      },
      "source": [
        "### IMDB Reviews  - Label and Plain Text Review"
      ]
    },
    {
      "cell_type": "markdown",
      "metadata": {
        "id": "AJSvDu85xNfG"
      },
      "source": [
        "0  0 (neg) \tThis was an absolutely terrible movie. Don't be lured in by Christopher Walken or Michael Ironside. Both are great actors, but this must simply be their worst role in history. Even their great acting could not redeem this movie's ridiculous storyline. This movie is an early nineties US propaganda piece. The most pathetic scenes were those when the Columbian rebels were making their cases for revolutions. Maria Conchita Alonso appeared phony, and her pseudo-love affair with Walken was nothing but a pathetic emotional plug in a movie that was devoid of any real meaning. I am disappointed that there are movies like this, ruining actor's like Christopher Walken's good name. I could barely sit through it.<br><br>"
      ]
    },
    {
      "cell_type": "markdown",
      "metadata": {
        "id": "04OCf4y_xNfG"
      },
      "source": [
        "1  0 (neg) \tI have been known to fall asleep during films, but this is usually due to a combination of things including, really tired, being warm and comfortable on the sette and having just eaten a lot. However on this occasion I fell asleep because the film was rubbish. The plot development was constant. Constantly slow and boring. Things seemed to happen, but with no explanation of what was causing them or why. I admit, I may have missed part of the film, but i watched the majority of it and everything just seemed to happen of its own accord without any real concern for anything else. I cant recommend this film at all.<br><br>"
      ]
    },
    {
      "cell_type": "markdown",
      "metadata": {
        "id": "vY-wDGgIxNfG"
      },
      "source": [
        "2  0 (neg) \tMann photographs the Alberta Rocky Mountains in a superb fashion, and Jimmy Stewart and Walter Brennan give enjoyable performances as they always seem to do. But come on Hollywood - a Mountie telling the people of Dawson City, Yukon to elect themselves a marshal (yes a marshal!) and to enforce the law themselves, then gunfighters battling it out on the streets for control of the town? Nothing even remotely resembling that happened on the Canadian side of the border during the Klondike gold rush. Mr. Mann and company appear to have mistaken Dawson City for Deadwood, the Canadian North for the American Wild West.Canadian viewers be prepared for a Reefer Madness type of enjoyable howl with this ludicrous plot, or, to shake your head in disgust.<br><br>"
      ]
    },
    {
      "cell_type": "markdown",
      "metadata": {
        "id": "J8pztS0_xNfH"
      },
      "source": [
        "3  1 (pos) \tThis is the kind of film for a snowy Sunday afternoon when the rest of the world can go ahead with its own business as you descend into a big arm-chair and mellow for a couple of hours. Wonderful performances from Cher and Nicolas Cage (as always) gently row the plot along. There are no rapids to cross, no dangerous waters, just a warm and witty paddle through New York life at its best. A family film in every sense and one that deserves the praise it received.<br><br>"
      ]
    },
    {
      "cell_type": "markdown",
      "metadata": {
        "id": "p_eF4tATxNfH"
      },
      "source": [
        "4  1 (pos)  As others have mentioned, all the women that go nude in this film are mostly absolutely gorgeous. The plot very ably shows the hypocrisy of the female libido. When men are around they want to be pursued, but when no \"men\" are around, they become the pursuers of a 14 year old boy. And the boy becomes a man really fast (we should all be so lucky at this age!). He then gets up the courage to pursue his true love.<br><br>"
      ]
    },
    {
      "cell_type": "markdown",
      "metadata": {
        "id": "WgznchhYxNfH"
      },
      "source": [
        "### IMDB Reviews  - Label and Encoded Review "
      ]
    },
    {
      "cell_type": "markdown",
      "metadata": {
        "id": "t-lI4b11xNfI"
      },
      "source": [
        "<div class=\"alert alert-block alert-info\"> \n",
        "<b>imdb_reviews</b><br>\n",
        "https://www.tensorflow.org/datasets/catalog/imdb_reviews<br><br>\n",
        "    FeaturesDict({<br>\n",
        "    'label': ClassLabel(shape=(), dtype=tf.int64, num_classes=2),<br>\n",
        "    'text': Text(shape=(None,), dtype=tf.int64, encoder=<SubwordTextEncoder vocab_size=8185>),<br>\n",
        "}) \n",
        "    \n",
        "</div>"
      ]
    },
    {
      "cell_type": "markdown",
      "metadata": {
        "id": "WybatVn_xNfI"
      },
      "source": [
        "0   0 (neg) \tarray([ 62, 18, 41, 604, 927, 65, 3, 644, 7968, 21, 35, 5096, 36, 11, 43, 2948, 5240, 102, 50, 681, 7862, 1244, 3, 3266, 29, 122, 640, 2, 26, 14, 279, 438, 35, 79, 349, 384, 11, 1991, 3, 492, 79, 122, 188, 117, 33, 4047, 4531, 14, 65, 7968, 8, 1819, 3947, 3, 62, 27, 9, 41, 577, 5044, 2629, 2552, 7193, 7961, 3642, 3, 19, 107, 3903, 225, 85, 198, 72, 1, 1512, 738, 2347, 102, 6245, 8, 85, 308, 79, 6936, 7961, 23, 4981, 8044, 3, 6429, 7961, 1141, 1335, 1848, 4848, 55, 3601, 4217, 8050, 2, 5, 59, 3831, 1484, 8040, 7974, 174, 5773, 22, 5240, 102, 18, 247, 26, 4, 3903, 1612, 3902, 291, 11, 4, 27, 13, 18, 4092, 4008, 7961, 6, 119, 213, 2774, 3, 12, 258, 2306, 13, 91, 29, 171, 52, 229, 2, 1245, 5790, 995, 7968, 8, 52, 2948, 5240, 8039, 7968, 8, 74, 1249, 3, 12, 117, 2438, 1369, 192, 39, 7975])<br><br>"
      ]
    },
    {
      "cell_type": "markdown",
      "metadata": {
        "id": "pLUVy0WVxNfI"
      },
      "source": [
        "1 \t0 (neg) \tarray([ 12, 31, 93, 867, 7, 1256, 6585, 7961, 421, 365, 2, 26, 14, 9, 988, 1089, 7, 4, 6728, 6, 276, 5760, 2587, 2, 81, 6118, 8029, 2, 139, 1892, 7961, 5, 5402, 246, 25, 1, 1771, 350, 5, 369, 56, 5397, 102, 4, 2547, 3, 4001, 25, 14, 7822, 209, 12, 3531, 6585, 7961, 99, 1, 32, 18, 4762, 3, 19, 184, 3223, 18, 5855, 1045, 3, 4232, 3337, 64, 1347, 5, 1190, 3, 4459, 8, 614, 7, 3129, 2, 26, 22, 84, 7020, 6, 71, 18, 4924, 1160, 161, 50, 2265, 3, 12, 3983, 2, 12, 264, 31, 2545, 261, 6, 1, 66, 2, 26, 131, 393, 1, 5846, 6, 15, 5, 473, 56, 614, 7, 1470, 6, 116, 285, 4755, 2088, 7961, 273, 119, 213, 3414, 7961, 23, 332, 1019, 3, 12, 7667, 505, 14, 32, 44, 208, 7975])<br><br>"
      ]
    },
    {
      "cell_type": "markdown",
      "metadata": {
        "id": "WKPy075jxNfI"
      },
      "source": [
        "2 \t0 (neg) \tarray([ 636, 102, 4714, 8, 1, 4333, 4, 4135, 47, 1325, 1174, 1139, 8, 11, 4, 2402, 1878, 2, 5, 5619, 4513, 5, 6872, 5063, 2290, 7961, 257, 1779, 695, 20, 53, 278, 382, 7, 374, 221, 10, 16, 10, 17, 128, 288, 25, 2259, 95, 4, 1325, 1174, 542, 1923, 1, 121, 6, 5217, 412, 6696, 2, 5496, 1459, 102, 7, 1120, 2098, 1272, 4, 957, 767, 8037, 28, 7042, 4, 957, 767, 8037, 1705, 5, 7, 413, 3439, 1, 5758, 2522, 2, 144, 2574, 7605, 8, 2339, 3212, 34, 15, 61, 25, 1, 6285, 7961, 23, 3224, 6, 1, 1818, 4442, 10, 16, 10, 17, 3281, 78, 7880, 3299, 6659, 34, 13, 1314, 25, 1, 7177, 748, 6, 1, 6135, 7961, 421, 1, 4255, 136, 2133, 735, 3093, 7961, 4564, 3, 745, 3, 636, 102, 5, 3981, 1780, 7, 31, 4086, 102, 5217, 412, 5244, 23, 4410, 2264, 2, 1, 7177, 4277, 7961, 23, 1, 405, 5287, 7961, 3543, 8045, 24, 10, 16, 10, 17, 7177, 1942, 35, 5202, 40, 23, 4, 3021, 3182, 7961, 1340, 432, 831, 6, 1779, 2932, 157, 22, 14, 6973, 7961, 396, 2, 317, 2, 7, 3977, 49, 155, 716, 11, 4326, 447, 7975])<br><br>"
      ]
    },
    {
      "cell_type": "markdown",
      "metadata": {
        "id": "zVP80gplxNfJ"
      },
      "source": [
        "3 \t1 (pos) \tarray([ 62, 9, 1, 312, 6, 32, 23, 4, 7809, 47, 7513, 7961, 1309, 6971, 7961, 72, 1, 470, 6, 1, 386, 83, 186, 5082, 22, 116, 285, 2924, 20, 37, 7117, 228, 94, 4, 301, 1579, 7974, 5403, 7961, 5, 2211, 654, 23, 4, 533, 6, 4916, 3, 6223, 455, 695, 48, 805, 127, 5, 7627, 20, 5111, 28, 20, 5995, 58, 5766, 64, 4682, 1, 184, 3740, 3, 173, 29, 84, 5302, 1031, 7, 4038, 2, 84, 6338, 3419, 8044, 2, 56, 4, 1892, 7961, 5, 5270, 7961, 913, 5340, 7961, 192, 698, 1951, 219, 44, 116, 883, 3, 133, 381, 32, 11, 242, 471, 5, 45, 13, 2064, 1, 4642, 7961, 15, 5809, 8029, 7975])<br><br>"
      ]
    },
    {
      "cell_type": "markdown",
      "metadata": {
        "id": "bYQEyuzOxNfJ"
      },
      "source": [
        "4 \t1 (pos) \tarray([ 249, 929, 31, 2699, 104, 2, 51, 1, 707, 13, 186, 7141, 7961, 11, 14, 32, 29, 1115, 604, 2766, 3816, 449, 3, 19, 184, 67, 864, 410, 1, 6257, 4050, 203, 47, 6, 1, 1110, 763, 3665, 8040, 3, 324, 571, 29, 268, 53, 239, 7, 35, 4402, 104, 2, 26, 72, 484, 38, 1039, 54, 29, 1790, 2, 53, 544, 1, 4402, 478, 6, 4, 4114, 7961, 570, 212, 1158, 3, 134, 1, 771, 611, 4, 172, 81, 2310, 28, 103, 180, 51, 35, 55, 7886, 44, 14, 595, 5904, 183, 144, 265, 76, 1, 7845, 49, 7, 4402, 49, 30, 461, 583, 7975])<br><br>"
      ]
    },
    {
      "cell_type": "markdown",
      "metadata": {
        "id": "GlYWqhTVlUyQ"
      },
      "source": [
        "## Preprocess Data for Training"
      ]
    },
    {
      "cell_type": "markdown",
      "metadata": {
        "id": "z2qVJzcEluH_"
      },
      "source": [
        "Next create batches of these encoded strings. Use the `padded_batch` method to zero-pad the sequences to the length of the longest string in the batch:"
      ]
    },
    {
      "cell_type": "code",
      "metadata": {
        "id": "dDsCaZCDYZgm"
      },
      "source": [
        "BUFFER_SIZE = 10000\n",
        "BATCH_SIZE = 64"
      ],
      "execution_count": null,
      "outputs": []
    },
    {
      "cell_type": "code",
      "metadata": {
        "id": "VznrltNOnUc5"
      },
      "source": [
        "#train_dataset = train_dataset.shuffle(BUFFER_SIZE)\n",
        "train_dataset = train_dataset.padded_batch(BATCH_SIZE)\n",
        "#validate_dataset=train_dataset.shuffle(BUFFER_SIZE)\n",
        "#validate_dataset=train_dataset.shuffle(BUFFER_SIZE)\n",
        "test_dataset = test_dataset.padded_batch(BATCH_SIZE)"
      ],
      "execution_count": null,
      "outputs": []
    },
    {
      "cell_type": "markdown",
      "metadata": {
        "id": "bjUqGVBxGw-t"
      },
      "source": [
        "## Create the model"
      ]
    },
    {
      "cell_type": "markdown",
      "metadata": {
        "id": "bgs6nnSTGw-t"
      },
      "source": [
        "<div class=\"alert alert-block alert-success\">\n",
        "Build a `tf.keras.Sequential` model and start with an embedding layer.  An embedding layer stores one vector per word. Next, it converts the sequences of word indices to sequences of vectors. These vectors are trainable. After training (on enough data), words with similar meanings often have similar vectors.<br>\n",
        "\n",
        "This index-lookup is much more efficient than the equivalent operation of passing a one-hot encoded vector through a `tf.keras.layers.Dense` layer<br>\n",
        "\n",
        "A recurrent neural network (RNN) processes sequence input by iterating through the elements. RNNs pass the outputs from one timestep to their input—and then to the next<br>\n",
        "\n",
        "The `tf.keras.layers.Bidirectional` wrapper can also be used with an RNN layer. This propagates the input forward and backwards through the RNN layer and then concatenates the output. This helps the RNN to learn long range dependencies</div>"
      ]
    },
    {
      "cell_type": "markdown",
      "metadata": {
        "id": "uKI2-8SuxNfN"
      },
      "source": [
        "<div class=\"alert alert-block alert-info\">\n",
        "    <b>tf.keras.layers.Bidirectional</b><br>\n",
        "    https://www.tensorflow.org/api_docs/python/tf/keras/layers/Bidirectional\n",
        "    </div>"
      ]
    },
    {
      "cell_type": "markdown",
      "metadata": {
        "id": "hAersnxxxNfN"
      },
      "source": [
        "#### Bidirectional RNNs\n",
        "<br>\n",
        "For sequences other than time series (e.g. text), it is often the case that a RNN model can perform better if it not only processes sequence from start to end, but also backwards. For example, to predict the next word in a sentence, it is often useful to have the context around the word, not only just the words that come before it.\n",
        "<br><br>\n",
        "Keras provides an easy API for you to build such bidirectional RNNs: the keras.layers.Bidirectional wrapper."
      ]
    },
    {
      "cell_type": "markdown",
      "metadata": {
        "id": "SrEVpJ3rxNfO"
      },
      "source": [
        "<div class=\"alert alert-block alert-info\">\n",
        "    <b>tf.keras.layers.SimpleRNN</b><br>\n",
        "    https://www.tensorflow.org/api_docs/python/tf/keras/layers/SimpleRNN\n",
        "    </div>"
      ]
    },
    {
      "cell_type": "code",
      "metadata": {
        "id": "LwfoBkmRYcP3"
      },
      "source": [
        "model = tf.keras.Sequential([\n",
        "    tf.keras.layers.Embedding(encoder.vocab_size, 64,mask_zero=True),\n",
        "    tf.keras.layers.Bidirectional(tf.keras.layers.SimpleRNN(64)),\n",
        "    tf.keras.layers.Dense(64, activation='relu'),\n",
        "    tf.keras.layers.Dense(1, activation=tf.nn.sigmoid)\n",
        "])"
      ],
      "execution_count": null,
      "outputs": []
    },
    {
      "cell_type": "code",
      "metadata": {
        "id": "josMbELHxNfQ",
        "colab": {
          "base_uri": "https://localhost:8080/"
        },
        "outputId": "d14e1689-2301-4191-c143-a05ce2838763"
      },
      "source": [
        "model.summary()"
      ],
      "execution_count": null,
      "outputs": [
        {
          "output_type": "stream",
          "text": [
            "Model: \"sequential\"\n",
            "_________________________________________________________________\n",
            "Layer (type)                 Output Shape              Param #   \n",
            "=================================================================\n",
            "embedding (Embedding)        (None, None, 64)          523840    \n",
            "_________________________________________________________________\n",
            "bidirectional (Bidirectional (None, 128)               16512     \n",
            "_________________________________________________________________\n",
            "dense (Dense)                (None, 64)                8256      \n",
            "_________________________________________________________________\n",
            "dense_1 (Dense)              (None, 1)                 65        \n",
            "=================================================================\n",
            "Total params: 548,673\n",
            "Trainable params: 548,673\n",
            "Non-trainable params: 0\n",
            "_________________________________________________________________\n"
          ],
          "name": "stdout"
        }
      ]
    },
    {
      "cell_type": "code",
      "metadata": {
        "id": "iZH-Y8qbxNfR",
        "colab": {
          "base_uri": "https://localhost:8080/",
          "height": 533
        },
        "outputId": "3a5ed8ef-e524-4ee6-feb7-8e503ca0300f"
      },
      "source": [
        "keras.utils.plot_model(model, \"BinaryClassificationModel.png\", show_shapes=True) "
      ],
      "execution_count": null,
      "outputs": [
        {
          "output_type": "execute_result",
          "data": {
            "image/png": "[encoded data removed]",
            "text/plain": [
              "<IPython.core.display.Image object>"
            ]
          },
          "metadata": {
            "tags": []
          },
          "execution_count": 17
        }
      ]
    },
    {
      "cell_type": "markdown",
      "metadata": {
        "id": "QIGmIGkkouUb"
      },
      "source": [
        "<div class=\"alert alert-block alert-success\"> \n",
        "Please note that we choose to Keras sequential model here since all the layers in the model only have single input and produce single output. </div>"
      ]
    },
    {
      "cell_type": "markdown",
      "metadata": {
        "id": "SEJwW0OoxNfT"
      },
      "source": [
        "<div class=\"alert alert-block alert-info\"> \n",
        "<b>tf.keras.Model</b><br>\n",
        "https://www.tensorflow.org/api_docs/python/tf/keras/Model\n",
        "</div>    "
      ]
    },
    {
      "cell_type": "markdown",
      "metadata": {
        "id": "sRI776ZcH3Tf"
      },
      "source": [
        "## Compile Model "
      ]
    },
    {
      "cell_type": "code",
      "metadata": {
        "id": "kj2xei41YZjC"
      },
      "source": [
        "model.compile(loss=tf.keras.losses.BinaryCrossentropy(from_logits=False),\n",
        "              optimizer=tf.keras.optimizers.Adam(1e-4),\n",
        "              metrics=['accuracy'])"
      ],
      "execution_count": null,
      "outputs": []
    },
    {
      "cell_type": "markdown",
      "metadata": {
        "id": "zIwH3nto596k"
      },
      "source": [
        "## Train the model"
      ]
    },
    {
      "cell_type": "code",
      "metadata": {
        "id": "hw86wWS4YgR2",
        "colab": {
          "base_uri": "https://localhost:8080/"
        },
        "outputId": "b6b2cbae-5d03-423f-82ee-83d4bca86d94"
      },
      "source": [
        "history = model.fit(train_dataset, epochs=10,\n",
        "                    \n",
        "                    validation_data=test_dataset,\n",
        "                    validation_steps=30)"
      ],
      "execution_count": null,
      "outputs": [
        {
          "output_type": "stream",
          "text": [
            "Epoch 1/10\n",
            "391/391 [==============================] - 300s 766ms/step - loss: 0.6925 - accuracy: 0.5156 - val_loss: 0.6871 - val_accuracy: 0.5474\n",
            "Epoch 2/10\n",
            "391/391 [==============================] - 304s 777ms/step - loss: 0.5883 - accuracy: 0.7044 - val_loss: 0.4453 - val_accuracy: 0.8135\n",
            "Epoch 3/10\n",
            "391/391 [==============================] - 298s 762ms/step - loss: 0.3498 - accuracy: 0.8579 - val_loss: 0.3562 - val_accuracy: 0.8500\n",
            "Epoch 4/10\n",
            "391/391 [==============================] - 308s 789ms/step - loss: 0.2641 - accuracy: 0.9021 - val_loss: 0.3537 - val_accuracy: 0.8615\n",
            "Epoch 5/10\n",
            "391/391 [==============================] - 305s 779ms/step - loss: 0.2091 - accuracy: 0.9241 - val_loss: 0.3694 - val_accuracy: 0.8344\n",
            "Epoch 6/10\n",
            "391/391 [==============================] - 303s 774ms/step - loss: 0.1718 - accuracy: 0.9420 - val_loss: 0.4061 - val_accuracy: 0.8609\n",
            "Epoch 7/10\n",
            "391/391 [==============================] - 301s 769ms/step - loss: 0.1358 - accuracy: 0.9556 - val_loss: 0.4395 - val_accuracy: 0.8464\n",
            "Epoch 8/10\n",
            "391/391 [==============================] - 305s 781ms/step - loss: 0.1310 - accuracy: 0.9562 - val_loss: 0.4097 - val_accuracy: 0.8458\n",
            "Epoch 9/10\n",
            "391/391 [==============================] - 302s 772ms/step - loss: 0.0887 - accuracy: 0.9735 - val_loss: 0.4910 - val_accuracy: 0.8552\n",
            "Epoch 10/10\n",
            "391/391 [==============================] - 300s 768ms/step - loss: 0.0600 - accuracy: 0.9846 - val_loss: 0.4709 - val_accuracy: 0.8469\n"
          ],
          "name": "stdout"
        }
      ]
    },
    {
      "cell_type": "markdown",
      "metadata": {
        "id": "s1PJdfoyxNfY"
      },
      "source": [
        "## Test the model"
      ]
    },
    {
      "cell_type": "markdown",
      "metadata": {
        "id": "NFLG6JUxxNfY"
      },
      "source": [
        "In order to ensure that this is not a simple \"memorization\" by the machine, we should evaluate the performance on the test set. This is easy to do, we simply use the `evaluate` method on our model."
      ]
    },
    {
      "cell_type": "code",
      "metadata": {
        "id": "BaNbXi43YgUT",
        "colab": {
          "base_uri": "https://localhost:8080/"
        },
        "outputId": "3e0c055e-3955-4fac-e896-431824f006e0"
      },
      "source": [
        "test_loss, test_acc = model.evaluate(test_dataset)\n",
        "\n",
        "print('Test Loss: {}'.format(test_loss))\n",
        "print('Test Accuracy: {}'.format(test_acc))"
      ],
      "execution_count": null,
      "outputs": [
        {
          "output_type": "stream",
          "text": [
            "391/391 [==============================] - 63s 160ms/step - loss: 0.4870 - accuracy: 0.8363\n",
            "Test Loss: 0.4870084226131439\n",
            "Test Accuracy: 0.8362799882888794\n"
          ],
          "name": "stdout"
        }
      ]
    },
    {
      "cell_type": "code",
      "metadata": {
        "id": "VbT3s3zNcPOO",
        "colab": {
          "base_uri": "https://localhost:8080/"
        },
        "outputId": "71ea21c1-41a4-4e28-9ccc-05fd10401a41"
      },
      "source": [
        "train_loss, train_acc = model.evaluate(train_dataset)\n",
        "\n",
        "print('Test Loss: {}'.format(train_loss))\n",
        "print('Test Accuracy: {}'.format(train_acc))"
      ],
      "execution_count": null,
      "outputs": [
        {
          "output_type": "stream",
          "text": [
            "391/391 [==============================] - 64s 163ms/step - loss: 0.0489 - accuracy: 0.9916\n",
            "Test Loss: 0.048947352916002274\n",
            "Test Accuracy: 0.9915599822998047\n"
          ],
          "name": "stdout"
        }
      ]
    },
    {
      "cell_type": "markdown",
      "metadata": {
        "id": "DwSE_386uhxD"
      },
      "source": [
        "<div class=\"alert alert-block alert-info\"> \n",
        "The above model does not mask the padding applied to the sequences.<br> This can lead to skew if trained on padded sequences and test on un-padded sequences<br>\n",
        "<b>If the prediction is >= 0.5, it is positive else it is negative</b></div>"
      ]
    },
    {
      "cell_type": "code",
      "metadata": {
        "id": "8w0dseJMiEUh"
      },
      "source": [
        "def pad_to_size(vec, size):\n",
        "  zeros = [0] * (size - len(vec))\n",
        "  vec.extend(zeros)\n",
        "  return vec"
      ],
      "execution_count": null,
      "outputs": []
    },
    {
      "cell_type": "code",
      "metadata": {
        "id": "Y-E4cgkIvmVu"
      },
      "source": [
        "def sample_predict(sample_pred_text, pad, model):\n",
        "  encoded_sample_pred_text = encoder.encode(sample_pred_text)\n",
        "\n",
        "  if pad:\n",
        "    encoded_sample_pred_text = pad_to_size(encoded_sample_pred_text, 64)\n",
        "  encoded_sample_pred_text = tf.cast(encoded_sample_pred_text, tf.float32)\n",
        "  predictions = model.predict(tf.expand_dims(encoded_sample_pred_text, 0))\n",
        "\n",
        "  return (predictions)"
      ],
      "execution_count": null,
      "outputs": []
    },
    {
      "cell_type": "markdown",
      "metadata": {
        "id": "PG08VgTAxNfd"
      },
      "source": [
        "#### Prediction 1 RNN Model on a sample text without padding"
      ]
    },
    {
      "cell_type": "code",
      "metadata": {
        "id": "O41gw3KfWHus",
        "colab": {
          "base_uri": "https://localhost:8080/"
        },
        "outputId": "ad56aa11-fbd9-43e2-b90d-7719ce766da7"
      },
      "source": [
        "sample_pred_text = ('The movie was cool. The animation and the graphics '\n",
        "                    'were out of this world. I would recommend this movie.')\n",
        "predictions = sample_predict(sample_pred_text,model = model, pad=False)\n",
        "print(predictions)"
      ],
      "execution_count": null,
      "outputs": [
        {
          "output_type": "stream",
          "text": [
            "[[0.1433214]]\n"
          ],
          "name": "stdout"
        }
      ]
    },
    {
      "cell_type": "markdown",
      "metadata": {
        "id": "Owgv20ipxNff"
      },
      "source": [
        "#### Prediction 2 RNN Model on a sample text with padding"
      ]
    },
    {
      "cell_type": "code",
      "metadata": {
        "id": "kFh4xLARucTy",
        "colab": {
          "base_uri": "https://localhost:8080/"
        },
        "outputId": "67680f99-13e1-4b82-f881-1609f8d6a21c"
      },
      "source": [
        "sample_pred_text = ('The movie was cool. The animation and the graphics '\n",
        "                    'were out of this world. I would recommend this movie.')\n",
        "predictions = sample_predict(sample_pred_text, pad=True, model = model)\n",
        "print(predictions)"
      ],
      "execution_count": null,
      "outputs": [
        {
          "output_type": "stream",
          "text": [
            "[[0.1433214]]\n"
          ],
          "name": "stdout"
        }
      ]
    },
    {
      "cell_type": "code",
      "metadata": {
        "id": "re53wmtNIWCW",
        "colab": {
          "base_uri": "https://localhost:8080/",
          "height": 306
        },
        "outputId": "dfe641ff-e714-4dde-98f9-14c834aee3c8"
      },
      "source": [
        "model.predict(encoder.decode('This movies was good'))"
      ],
      "execution_count": null,
      "outputs": [
        {
          "output_type": "error",
          "ename": "TypeError",
          "evalue": "ignored",
          "traceback": [
            "\u001b[0;31m---------------------------------------------------------------------------\u001b[0m",
            "\u001b[0;31mTypeError\u001b[0m                                 Traceback (most recent call last)",
            "\u001b[0;32m<ipython-input-61-76abfd3e7767>\u001b[0m in \u001b[0;36m<module>\u001b[0;34m()\u001b[0m\n\u001b[0;32m----> 1\u001b[0;31m \u001b[0mmodel\u001b[0m\u001b[0;34m.\u001b[0m\u001b[0mpredict\u001b[0m\u001b[0;34m(\u001b[0m\u001b[0mencoder\u001b[0m\u001b[0;34m.\u001b[0m\u001b[0mdecode\u001b[0m\u001b[0;34m(\u001b[0m\u001b[0;34m'This movies was good'\u001b[0m\u001b[0;34m)\u001b[0m\u001b[0;34m)\u001b[0m\u001b[0;34m\u001b[0m\u001b[0;34m\u001b[0m\u001b[0m\n\u001b[0m",
            "\u001b[0;32m/usr/local/lib/python3.6/dist-packages/tensorflow_datasets/core/deprecated/text/subword_text_encoder.py\u001b[0m in \u001b[0;36mdecode\u001b[0;34m(self, ids)\u001b[0m\n\u001b[1;32m     86\u001b[0m   \u001b[0;32mdef\u001b[0m \u001b[0mdecode\u001b[0m\u001b[0;34m(\u001b[0m\u001b[0mself\u001b[0m\u001b[0;34m,\u001b[0m \u001b[0mids\u001b[0m\u001b[0;34m)\u001b[0m\u001b[0;34m:\u001b[0m\u001b[0;34m\u001b[0m\u001b[0;34m\u001b[0m\u001b[0m\n\u001b[1;32m     87\u001b[0m     \u001b[0;34m\"\"\"Decodes a list of integers into text.\"\"\"\u001b[0m\u001b[0;34m\u001b[0m\u001b[0;34m\u001b[0m\u001b[0m\n\u001b[0;32m---> 88\u001b[0;31m     \u001b[0mids\u001b[0m \u001b[0;34m=\u001b[0m \u001b[0mtext_encoder\u001b[0m\u001b[0;34m.\u001b[0m\u001b[0mpad_decr\u001b[0m\u001b[0;34m(\u001b[0m\u001b[0mids\u001b[0m\u001b[0;34m)\u001b[0m\u001b[0;34m\u001b[0m\u001b[0;34m\u001b[0m\u001b[0m\n\u001b[0m\u001b[1;32m     89\u001b[0m     \u001b[0msubword_ids\u001b[0m \u001b[0;34m=\u001b[0m \u001b[0mids\u001b[0m\u001b[0;34m\u001b[0m\u001b[0;34m\u001b[0m\u001b[0m\n\u001b[1;32m     90\u001b[0m     \u001b[0;32mdel\u001b[0m \u001b[0mids\u001b[0m\u001b[0;34m\u001b[0m\u001b[0;34m\u001b[0m\u001b[0m\n",
            "\u001b[0;32m/usr/local/lib/python3.6/dist-packages/tensorflow_datasets/core/deprecated/text/text_encoder.py\u001b[0m in \u001b[0;36mpad_decr\u001b[0;34m(ids)\u001b[0m\n\u001b[1;32m    444\u001b[0m   \u001b[0;32melse\u001b[0m\u001b[0;34m:\u001b[0m\u001b[0;34m\u001b[0m\u001b[0;34m\u001b[0m\u001b[0m\n\u001b[1;32m    445\u001b[0m     \u001b[0mids\u001b[0m \u001b[0;34m=\u001b[0m \u001b[0mids\u001b[0m\u001b[0;34m[\u001b[0m\u001b[0;34m:\u001b[0m\u001b[0midx\u001b[0m \u001b[0;34m+\u001b[0m \u001b[0;36m1\u001b[0m\u001b[0;34m]\u001b[0m\u001b[0;34m\u001b[0m\u001b[0;34m\u001b[0m\u001b[0m\n\u001b[0;32m--> 446\u001b[0;31m   \u001b[0;32mreturn\u001b[0m \u001b[0;34m[\u001b[0m\u001b[0mi\u001b[0m \u001b[0;34m-\u001b[0m \u001b[0;36m1\u001b[0m \u001b[0;32mfor\u001b[0m \u001b[0mi\u001b[0m \u001b[0;32min\u001b[0m \u001b[0mids\u001b[0m\u001b[0;34m]\u001b[0m\u001b[0;34m\u001b[0m\u001b[0;34m\u001b[0m\u001b[0m\n\u001b[0m\u001b[1;32m    447\u001b[0m \u001b[0;34m\u001b[0m\u001b[0m\n\u001b[1;32m    448\u001b[0m \u001b[0;34m\u001b[0m\u001b[0m\n",
            "\u001b[0;32m/usr/local/lib/python3.6/dist-packages/tensorflow_datasets/core/deprecated/text/text_encoder.py\u001b[0m in \u001b[0;36m<listcomp>\u001b[0;34m(.0)\u001b[0m\n\u001b[1;32m    444\u001b[0m   \u001b[0;32melse\u001b[0m\u001b[0;34m:\u001b[0m\u001b[0;34m\u001b[0m\u001b[0;34m\u001b[0m\u001b[0m\n\u001b[1;32m    445\u001b[0m     \u001b[0mids\u001b[0m \u001b[0;34m=\u001b[0m \u001b[0mids\u001b[0m\u001b[0;34m[\u001b[0m\u001b[0;34m:\u001b[0m\u001b[0midx\u001b[0m \u001b[0;34m+\u001b[0m \u001b[0;36m1\u001b[0m\u001b[0;34m]\u001b[0m\u001b[0;34m\u001b[0m\u001b[0;34m\u001b[0m\u001b[0m\n\u001b[0;32m--> 446\u001b[0;31m   \u001b[0;32mreturn\u001b[0m \u001b[0;34m[\u001b[0m\u001b[0mi\u001b[0m \u001b[0;34m-\u001b[0m \u001b[0;36m1\u001b[0m \u001b[0;32mfor\u001b[0m \u001b[0mi\u001b[0m \u001b[0;32min\u001b[0m \u001b[0mids\u001b[0m\u001b[0;34m]\u001b[0m\u001b[0;34m\u001b[0m\u001b[0;34m\u001b[0m\u001b[0m\n\u001b[0m\u001b[1;32m    447\u001b[0m \u001b[0;34m\u001b[0m\u001b[0m\n\u001b[1;32m    448\u001b[0m \u001b[0;34m\u001b[0m\u001b[0m\n",
            "\u001b[0;31mTypeError\u001b[0m: unsupported operand type(s) for -: 'str' and 'int'"
          ]
        }
      ]
    },
    {
      "cell_type": "code",
      "metadata": {
        "id": "ZfIVoxiNmKBF",
        "colab": {
          "base_uri": "https://localhost:8080/",
          "height": 369
        },
        "outputId": "e3be1b7d-9ebf-40a8-c313-cd7363016ddf"
      },
      "source": [
        "plot_history(history.history)\n",
        "plt.show()"
      ],
      "execution_count": null,
      "outputs": [
        {
          "output_type": "display_data",
          "data": {
            "image/png": "[encoded data removed]",
            "text/plain": [
              "<Figure size 720x360 with 2 Axes>"
            ]
          },
          "metadata": {
            "tags": [],
            "needs_background": "light"
          }
        }
      ]
    },
    {
      "cell_type": "markdown",
      "metadata": {
        "id": "wnUOxavlxNfh"
      },
      "source": [
        "## Plotting Performance Metrics \n",
        "\n",
        "We use Matplotlib to create 2 plots--displaying the training and validation loss (resp. accuracy) for each (training)"
      ]
    },
    {
      "cell_type": "code",
      "metadata": {
        "id": "-c4B7GqDxNfi",
        "colab": {
          "base_uri": "https://localhost:8080/"
        },
        "outputId": "358e28e3-d3a7-462e-fbd9-01a4fd733914"
      },
      "source": [
        "history_dict = history.history\n",
        "history_dict.keys()"
      ],
      "execution_count": null,
      "outputs": [
        {
          "output_type": "execute_result",
          "data": {
            "text/plain": [
              "dict_keys(['loss', 'accuracy', 'val_loss', 'val_accuracy'])"
            ]
          },
          "metadata": {
            "tags": []
          },
          "execution_count": 28
        }
      ]
    },
    {
      "cell_type": "code",
      "metadata": {
        "id": "XEaTNCOHxNfj"
      },
      "source": [
        "acc = history.history['accuracy']\n",
        "val_acc = history.history['val_accuracy']\n",
        "loss = history.history['loss']\n",
        "val_loss = history.history['val_loss']"
      ],
      "execution_count": null,
      "outputs": []
    },
    {
      "cell_type": "code",
      "metadata": {
        "id": "XMHoPkg4xNfl",
        "colab": {
          "base_uri": "https://localhost:8080/",
          "height": 295
        },
        "outputId": "4532b414-1d54-4d54-e86f-7bce0b368d8c"
      },
      "source": [
        "plt.plot(range(1, len(acc) + 1), history.history['accuracy'], label = 'Training')\n",
        "plt.plot(range(1, len(val_acc) + 1), history.history['val_accuracy'], label = 'Validation')\n",
        "plt.ylim([0.5, 1.0])\n",
        "plt.title('Training and Validation Accuracy')\n",
        "plt.xlabel('Epochs')\n",
        "plt.ylabel('Accuracy')\n",
        "plt.legend()\n",
        "plt.show()"
      ],
      "execution_count": null,
      "outputs": [
        {
          "output_type": "display_data",
          "data": {
            "image/png": "[encoded data removed]",
            "text/plain": [
              "<Figure size 432x288 with 1 Axes>"
            ]
          },
          "metadata": {
            "tags": [],
            "needs_background": "light"
          }
        }
      ]
    },
    {
      "cell_type": "code",
      "metadata": {
        "id": "hH7OXvqxxNfm",
        "colab": {
          "base_uri": "https://localhost:8080/",
          "height": 295
        },
        "outputId": "e677f03b-3a57-493e-eb3f-ab9bca600e3b"
      },
      "source": [
        "plt.plot(range(1, len(loss) + 1), history.history['loss'], label = 'Training')\n",
        "plt.plot(range(1, len(val_loss) + 1), history.history['val_loss'], label = 'Validation')\n",
        "plt.ylim([0.0, 0.7])\n",
        "plt.title('Training and Validation Loss')\n",
        "plt.xlabel('Epochs')\n",
        "plt.ylabel('Loss')\n",
        "plt.legend()\n",
        "plt.show()"
      ],
      "execution_count": null,
      "outputs": [
        {
          "output_type": "display_data",
          "data": {
            "image/png": "[encoded data removed]",
            "text/plain": [
              "<Figure size 432x288 with 1 Axes>"
            ]
          },
          "metadata": {
            "tags": [],
            "needs_background": "light"
          }
        }
      ]
    },
    {
      "cell_type": "code",
      "metadata": {
        "id": "-tca6RzBoiEc",
        "colab": {
          "base_uri": "https://localhost:8080/",
          "height": 204
        },
        "outputId": "054a3dd5-f0e8-4f18-8e8b-4a6b9c74c2ec"
      },
      "source": [
        "## on train data\n",
        "df_train1.head()"
      ],
      "execution_count": null,
      "outputs": [
        {
          "output_type": "execute_result",
          "data": {
            "text/html": [
              "<div>\n",
              "<style scoped>\n",
              "    .dataframe tbody tr th:only-of-type {\n",
              "        vertical-align: middle;\n",
              "    }\n",
              "\n",
              "    .dataframe tbody tr th {\n",
              "        vertical-align: top;\n",
              "    }\n",
              "\n",
              "    .dataframe thead th {\n",
              "        text-align: right;\n",
              "    }\n",
              "</style>\n",
              "<table border=\"1\" class=\"dataframe\">\n",
              "  <thead>\n",
              "    <tr style=\"text-align: right;\">\n",
              "      <th></th>\n",
              "      <th>label</th>\n",
              "      <th>text</th>\n",
              "    </tr>\n",
              "  </thead>\n",
              "  <tbody>\n",
              "    <tr>\n",
              "      <th>0</th>\n",
              "      <td>0</td>\n",
              "      <td>[62, 18, 41, 604, 927, 65, 3, 644, 7968, 21, 3...</td>\n",
              "    </tr>\n",
              "    <tr>\n",
              "      <th>1</th>\n",
              "      <td>0</td>\n",
              "      <td>[12, 31, 93, 867, 7, 1256, 6585, 7961, 421, 36...</td>\n",
              "    </tr>\n",
              "    <tr>\n",
              "      <th>2</th>\n",
              "      <td>0</td>\n",
              "      <td>[636, 102, 4714, 8, 1, 4333, 4, 4135, 47, 1325...</td>\n",
              "    </tr>\n",
              "    <tr>\n",
              "      <th>3</th>\n",
              "      <td>1</td>\n",
              "      <td>[62, 9, 1, 312, 6, 32, 23, 4, 7809, 47, 7513, ...</td>\n",
              "    </tr>\n",
              "    <tr>\n",
              "      <th>4</th>\n",
              "      <td>1</td>\n",
              "      <td>[249, 929, 31, 2699, 104, 2, 51, 1, 707, 13, 1...</td>\n",
              "    </tr>\n",
              "  </tbody>\n",
              "</table>\n",
              "</div>"
            ],
            "text/plain": [
              "   label                                               text\n",
              "0      0  [62, 18, 41, 604, 927, 65, 3, 644, 7968, 21, 3...\n",
              "1      0  [12, 31, 93, 867, 7, 1256, 6585, 7961, 421, 36...\n",
              "2      0  [636, 102, 4714, 8, 1, 4333, 4, 4135, 47, 1325...\n",
              "3      1  [62, 9, 1, 312, 6, 32, 23, 4, 7809, 47, 7513, ...\n",
              "4      1  [249, 929, 31, 2699, 104, 2, 51, 1, 707, 13, 1..."
            ]
          },
          "metadata": {
            "tags": []
          },
          "execution_count": 60
        }
      ]
    },
    {
      "cell_type": "code",
      "metadata": {
        "id": "0Wzkce9Dprp1"
      },
      "source": [
        "df_train1 = tfds.as_dataframe(dataset['train'], info)"
      ],
      "execution_count": null,
      "outputs": []
    },
    {
      "cell_type": "code",
      "metadata": {
        "id": "S6Jnc0Jeprp2",
        "colab": {
          "base_uri": "https://localhost:8080/"
        },
        "outputId": "a0ab6ceb-683a-4929-980a-856b0f202466"
      },
      "source": [
        "train_dataset"
      ],
      "execution_count": null,
      "outputs": [
        {
          "output_type": "execute_result",
          "data": {
            "text/plain": [
              "<PaddedBatchDataset shapes: ((None, None, None, None), (None, None, None)), types: (tf.int64, tf.int64)>"
            ]
          },
          "metadata": {
            "tags": []
          },
          "execution_count": 70
        }
      ]
    },
    {
      "cell_type": "code",
      "metadata": {
        "id": "nOFqY9u_prp3"
      },
      "source": [
        "test_train = model.predict(train_dataset)"
      ],
      "execution_count": null,
      "outputs": []
    },
    {
      "cell_type": "code",
      "metadata": {
        "id": "GyG7AToIprp5"
      },
      "source": [
        "test_pre_trian = np.where(test_train>0.5, 1,0)"
      ],
      "execution_count": null,
      "outputs": []
    },
    {
      "cell_type": "code",
      "metadata": {
        "id": "54z7CLlYprp6"
      },
      "source": [
        "y_train= np.array(df_train1['label'])"
      ],
      "execution_count": null,
      "outputs": []
    },
    {
      "cell_type": "code",
      "metadata": {
        "id": "8BdNisrDprp8"
      },
      "source": [
        "cm_train = confusion_matrix(test_pre_trian, y_train)"
      ],
      "execution_count": null,
      "outputs": []
    },
    {
      "cell_type": "code",
      "metadata": {
        "id": "opja2Pb4rfr1",
        "colab": {
          "base_uri": "https://localhost:8080/"
        },
        "outputId": "35971b27-1a2a-4910-a53f-9b2564b53fb7"
      },
      "source": [
        "cm_train"
      ],
      "execution_count": null,
      "outputs": [
        {
          "output_type": "execute_result",
          "data": {
            "text/plain": [
              "array([[12429,   140],\n",
              "       [   71, 12360]])"
            ]
          },
          "metadata": {
            "tags": []
          },
          "execution_count": 78
        }
      ]
    },
    {
      "cell_type": "code",
      "metadata": {
        "id": "YnzGPAc-prp-",
        "colab": {
          "base_uri": "https://localhost:8080/",
          "height": 279
        },
        "outputId": "8ab8ed0b-eb11-4f51-e094-9725a161502a"
      },
      "source": [
        "fig, ax = pcm(conf_mat=cm_train, \n",
        "                               show_absolute=True,\n",
        "                                show_normed=True,\n",
        "                                colorbar=True,\n",
        "              \n",
        "                                )\n",
        "plt.show()"
      ],
      "execution_count": null,
      "outputs": [
        {
          "output_type": "display_data",
          "data": {
            "image/png": "[encoded data removed]",
            "text/plain": [
              "<Figure size 432x288 with 2 Axes>"
            ]
          },
          "metadata": {
            "tags": [],
            "needs_background": "light"
          }
        }
      ]
    },
    {
      "cell_type": "code",
      "metadata": {
        "id": "huJkd9Cuprp_"
      },
      "source": [
        "from sklearn.metrics import classification_report"
      ],
      "execution_count": null,
      "outputs": []
    },
    {
      "cell_type": "code",
      "metadata": {
        "id": "KxMpqRnGprqA",
        "colab": {
          "base_uri": "https://localhost:8080/"
        },
        "outputId": "f34a7400-8ca3-47ec-9473-40bba7fc105a"
      },
      "source": [
        "print(classification_report(test_pre_trian, y_train))"
      ],
      "execution_count": null,
      "outputs": [
        {
          "output_type": "stream",
          "text": [
            "              precision    recall  f1-score   support\n",
            "\n",
            "           0       0.99      0.99      0.99     12569\n",
            "           1       0.99      0.99      0.99     12431\n",
            "\n",
            "    accuracy                           0.99     25000\n",
            "   macro avg       0.99      0.99      0.99     25000\n",
            "weighted avg       0.99      0.99      0.99     25000\n",
            "\n"
          ],
          "name": "stdout"
        }
      ]
    },
    {
      "cell_type": "code",
      "metadata": {
        "id": "HzGvk_jnprqB"
      },
      "source": [
        ""
      ],
      "execution_count": null,
      "outputs": []
    },
    {
      "cell_type": "code",
      "metadata": {
        "id": "vHnZfbHDplbs"
      },
      "source": [
        ""
      ],
      "execution_count": null,
      "outputs": []
    },
    {
      "cell_type": "code",
      "metadata": {
        "id": "J4AI-19BpiZm"
      },
      "source": [
        ""
      ],
      "execution_count": null,
      "outputs": []
    },
    {
      "cell_type": "code",
      "metadata": {
        "id": "0463OTfYpieX"
      },
      "source": [
        "## on test data\n"
      ],
      "execution_count": null,
      "outputs": []
    },
    {
      "cell_type": "code",
      "metadata": {
        "id": "kWU6hC3GosTz"
      },
      "source": [
        "df_test1 = tfds.as_dataframe(dataset['test'], info)"
      ],
      "execution_count": null,
      "outputs": []
    },
    {
      "cell_type": "code",
      "metadata": {
        "id": "O8RuiDiSosT4"
      },
      "source": [
        "ar =np.array(df_test1.text)"
      ],
      "execution_count": null,
      "outputs": []
    },
    {
      "cell_type": "code",
      "metadata": {
        "id": "7KbCUZ0vosT-"
      },
      "source": [
        "test_test = model.predict(test_dataset)"
      ],
      "execution_count": null,
      "outputs": []
    },
    {
      "cell_type": "code",
      "metadata": {
        "id": "1bwkLJUKosUB"
      },
      "source": [
        "test_pre_test = np.where(test_test>0.5, 1,0)"
      ],
      "execution_count": null,
      "outputs": []
    },
    {
      "cell_type": "code",
      "metadata": {
        "id": "P039eA9uosUD"
      },
      "source": [
        "y_test= np.array(df_test1['label'])"
      ],
      "execution_count": null,
      "outputs": []
    },
    {
      "cell_type": "code",
      "metadata": {
        "id": "08_ILcLMosUG"
      },
      "source": [
        "cm = confusion_matrix(test_pre_test, y_test)"
      ],
      "execution_count": null,
      "outputs": []
    },
    {
      "cell_type": "code",
      "metadata": {
        "id": "PaXUH_qIosUI",
        "colab": {
          "base_uri": "https://localhost:8080/",
          "height": 279
        },
        "outputId": "8c3c361f-4d66-43dd-dc0d-b95d5906aa8a"
      },
      "source": [
        "fig, ax = pcm(conf_mat=cm, \n",
        "                               show_absolute=True,\n",
        "                                show_normed=True,\n",
        "                                colorbar=True,\n",
        "              \n",
        "                                )\n",
        "plt.show()"
      ],
      "execution_count": null,
      "outputs": [
        {
          "output_type": "display_data",
          "data": {
            "image/png": "[encoded data removed]",
            "text/plain": [
              "<Figure size 432x288 with 2 Axes>"
            ]
          },
          "metadata": {
            "tags": [],
            "needs_background": "light"
          }
        }
      ]
    },
    {
      "cell_type": "code",
      "metadata": {
        "id": "JhTjo6VRosUK"
      },
      "source": [
        "from sklearn.metrics import classification_report"
      ],
      "execution_count": null,
      "outputs": []
    },
    {
      "cell_type": "code",
      "metadata": {
        "id": "pd0Q050cosUM",
        "colab": {
          "base_uri": "https://localhost:8080/"
        },
        "outputId": "e8c26435-0ac0-4f9e-ce64-9ae0b1b691c9"
      },
      "source": [
        "print(classification_report(test_pre_test, y_test))"
      ],
      "execution_count": null,
      "outputs": [
        {
          "output_type": "stream",
          "text": [
            "              precision    recall  f1-score   support\n",
            "\n",
            "           0       0.86      0.82      0.84     13133\n",
            "           1       0.81      0.85      0.83     11867\n",
            "\n",
            "    accuracy                           0.84     25000\n",
            "   macro avg       0.84      0.84      0.84     25000\n",
            "weighted avg       0.84      0.84      0.84     25000\n",
            "\n"
          ],
          "name": "stdout"
        }
      ]
    },
    {
      "cell_type": "code",
      "metadata": {
        "id": "AZdDirvCoiMo"
      },
      "source": [
        ""
      ],
      "execution_count": null,
      "outputs": []
    },
    {
      "cell_type": "code",
      "metadata": {
        "id": "c1VVeJtzoiPR"
      },
      "source": [
        ""
      ],
      "execution_count": null,
      "outputs": []
    },
    {
      "cell_type": "markdown",
      "metadata": {
        "id": "7g1evcaRpTKm"
      },
      "source": [
        "## Stack two or more LSTM layers\n",
        "\n",
        "Keras recurrent layers have two available modes that are controlled by the `return_sequences` constructor argument:\n",
        "\n",
        "* Return either the full sequences of successive outputs for each timestep (a 3D tensor of shape `(batch_size, timesteps, output_features)`).\n",
        "* Return only the last output for each input sequence (a 2D tensor of shape (batch_size, output_features))."
      ]
    },
    {
      "cell_type": "code",
      "metadata": {
        "id": "jo1jjO3vn0jo"
      },
      "source": [
        "model2 = tf.keras.Sequential([\n",
        "    tf.keras.layers.Embedding(encoder.vocab_size, 64, mask_zero= True),\n",
        "    tf.keras.layers.Bidirectional(tf.keras.layers.LSTM(64,  return_sequences=True)),\n",
        "    tf.keras.layers.Bidirectional(tf.keras.layers.LSTM(32)),\n",
        "    tf.keras.layers.Dense(64, activation='relu'),\n",
        "    tf.keras.layers.Dropout(0.5),\n",
        "    tf.keras.layers.Dense(1, activation='sigmoid')\n",
        "])"
      ],
      "execution_count": null,
      "outputs": []
    },
    {
      "cell_type": "code",
      "metadata": {
        "id": "hEPV5jVGp-is"
      },
      "source": [
        "model2.compile(loss=tf.keras.losses.BinaryCrossentropy(), \n",
        "              optimizer=tf.keras.optimizers.Adam(1e-4, clipnorm=1.),\n",
        "              metrics=['accuracy'] )"
      ],
      "execution_count": null,
      "outputs": []
    },
    {
      "cell_type": "code",
      "metadata": {
        "id": "YLiZxoXgxNfq",
        "colab": {
          "base_uri": "https://localhost:8080/"
        },
        "outputId": "2ea31b4a-f396-42ec-8171-e813057c4fea"
      },
      "source": [
        "model2.summary()"
      ],
      "execution_count": null,
      "outputs": [
        {
          "output_type": "stream",
          "text": [
            "Model: \"sequential_1\"\n",
            "_________________________________________________________________\n",
            "Layer (type)                 Output Shape              Param #   \n",
            "=================================================================\n",
            "embedding_1 (Embedding)      (None, None, 64)          523840    \n",
            "_________________________________________________________________\n",
            "bidirectional_1 (Bidirection (None, None, 128)         66048     \n",
            "_________________________________________________________________\n",
            "bidirectional_2 (Bidirection (None, 64)                41216     \n",
            "_________________________________________________________________\n",
            "dense_2 (Dense)              (None, 64)                4160      \n",
            "_________________________________________________________________\n",
            "dropout (Dropout)            (None, 64)                0         \n",
            "_________________________________________________________________\n",
            "dense_3 (Dense)              (None, 1)                 65        \n",
            "=================================================================\n",
            "Total params: 635,329\n",
            "Trainable params: 635,329\n",
            "Non-trainable params: 0\n",
            "_________________________________________________________________\n"
          ],
          "name": "stdout"
        }
      ]
    },
    {
      "cell_type": "code",
      "metadata": {
        "id": "x_G4ddCYxNfs",
        "colab": {
          "base_uri": "https://localhost:8080/",
          "height": 754
        },
        "outputId": "e7970a2f-00c4-45b1-e32b-3abe61681f6b"
      },
      "source": [
        "keras.utils.plot_model(model2, \"LSTMBinaryClassificationModel.png\", show_shapes=True) "
      ],
      "execution_count": null,
      "outputs": [
        {
          "output_type": "execute_result",
          "data": {
            "image/png": "[encoded data removed]",
            "text/plain": [
              "<IPython.core.display.Image object>"
            ]
          },
          "metadata": {
            "tags": []
          },
          "execution_count": 89
        }
      ]
    },
    {
      "cell_type": "code",
      "metadata": {
        "id": "LeSE-YjdqAeN",
        "colab": {
          "base_uri": "https://localhost:8080/"
        },
        "outputId": "40c0d553-a9f1-4f06-82e3-5fcff0fab44a"
      },
      "source": [
        "history2 = model2.fit(train_dataset, epochs=10,\n",
        "                    validation_data=test_dataset,\n",
        "                    validation_steps=30)"
      ],
      "execution_count": null,
      "outputs": [
        {
          "output_type": "stream",
          "text": [
            "Epoch 1/10\n",
            "391/391 [==============================] - 1276s 3s/step - loss: 0.6202 - accuracy: 0.6364 - val_loss: 0.4290 - val_accuracy: 0.8115\n",
            "Epoch 2/10\n",
            "391/391 [==============================] - 1297s 3s/step - loss: 0.3344 - accuracy: 0.8700 - val_loss: 0.3169 - val_accuracy: 0.8734\n",
            "Epoch 3/10\n",
            "391/391 [==============================] - 1274s 3s/step - loss: 0.2408 - accuracy: 0.9137 - val_loss: 0.2987 - val_accuracy: 0.8750\n",
            "Epoch 4/10\n",
            "391/391 [==============================] - 1294s 3s/step - loss: 0.1935 - accuracy: 0.9348 - val_loss: 0.3047 - val_accuracy: 0.8755\n",
            "Epoch 5/10\n",
            "391/391 [==============================] - 1301s 3s/step - loss: 0.1594 - accuracy: 0.9492 - val_loss: 0.3648 - val_accuracy: 0.8557\n",
            "Epoch 6/10\n",
            "391/391 [==============================] - 1288s 3s/step - loss: 0.1350 - accuracy: 0.9581 - val_loss: 0.3788 - val_accuracy: 0.8703\n",
            "Epoch 7/10\n",
            "391/391 [==============================] - 1278s 3s/step - loss: 0.1148 - accuracy: 0.9672 - val_loss: 0.4214 - val_accuracy: 0.8698\n",
            "Epoch 8/10\n",
            "391/391 [==============================] - 1287s 3s/step - loss: 0.0931 - accuracy: 0.9760 - val_loss: 0.4611 - val_accuracy: 0.8635\n",
            "Epoch 9/10\n",
            "391/391 [==============================] - 1288s 3s/step - loss: 0.0801 - accuracy: 0.9799 - val_loss: 0.5049 - val_accuracy: 0.8641\n",
            "Epoch 10/10\n",
            "391/391 [==============================] - 1279s 3s/step - loss: 0.0683 - accuracy: 0.9832 - val_loss: 0.5506 - val_accuracy: 0.8573\n"
          ],
          "name": "stdout"
        }
      ]
    },
    {
      "cell_type": "code",
      "metadata": {
        "id": "_LdwilM1qPM3",
        "colab": {
          "base_uri": "https://localhost:8080/"
        },
        "outputId": "a9b14114-ed7f-4e0b-ca7f-f07746e9e20f"
      },
      "source": [
        "test_loss, test_acc = model2.evaluate(test_dataset)\n",
        "print('Test Accuracy: {}'.format(test_acc))\n",
        "print('Test Loss: {}'.format(test_loss))"
      ],
      "execution_count": null,
      "outputs": [
        {
          "output_type": "stream",
          "text": [
            "391/391 [==============================] - 248s 635ms/step - loss: 0.5509 - accuracy: 0.8572\n",
            "Test Accuracy: 0.857200026512146\n",
            "Test Loss: 0.5508971214294434\n"
          ],
          "name": "stdout"
        }
      ]
    },
    {
      "cell_type": "code",
      "metadata": {
        "id": "oHNDJlTtcbYp",
        "colab": {
          "base_uri": "https://localhost:8080/"
        },
        "outputId": "018e145d-2da3-4267-f838-85d403a25d4d"
      },
      "source": [
        "train_loss, train_acc = model2.evaluate(train_dataset)\n",
        "print('Test Accuracy: {}'.format(test_acc))\n",
        "print('Test Loss: {}'.format(train_loss))"
      ],
      "execution_count": null,
      "outputs": [
        {
          "output_type": "stream",
          "text": [
            "391/391 [==============================] - 245s 626ms/step - loss: 0.0486 - accuracy: 0.9889\n",
            "Test Accuracy: 0.857200026512146\n",
            "Test Loss: 0.04858934506773949\n"
          ],
          "name": "stdout"
        }
      ]
    },
    {
      "cell_type": "markdown",
      "metadata": {
        "id": "egW46q-RxNfw"
      },
      "source": [
        "#### Prediction 1 LSTM Model on a sample text without padding"
      ]
    },
    {
      "cell_type": "code",
      "metadata": {
        "id": "ykUKnAoqbycW",
        "colab": {
          "base_uri": "https://localhost:8080/"
        },
        "outputId": "46a97689-27e5-4d16-f456-0d65263bcf7b"
      },
      "source": [
        "sample_pred_text = ('The movie was not good. The animation and the graphics '\n",
        "                    'were terrible. I would not recommend this movie.')\n",
        "predictions = sample_predict(sample_pred_text, pad=False)\n",
        "print(predictions)"
      ],
      "execution_count": null,
      "outputs": [
        {
          "output_type": "stream",
          "text": [
            "[[0.00447091]]\n"
          ],
          "name": "stdout"
        }
      ]
    },
    {
      "cell_type": "markdown",
      "metadata": {
        "id": "JVngSS8ixNfy"
      },
      "source": [
        "#### Prediction 2 LSTM Model on a sample text with padding"
      ]
    },
    {
      "cell_type": "code",
      "metadata": {
        "id": "2RiC-94zvdZO",
        "colab": {
          "base_uri": "https://localhost:8080/"
        },
        "outputId": "8597bb67-a295-4d92-810a-78bd75629db0"
      },
      "source": [
        "sample_pred_text = ('The movie was not good. The animation and the graphics '\n",
        "                    'were terrible. I would not recommend this movie.')\n",
        "predictions = sample_predict(sample_pred_text, pad=True)\n",
        "print(predictions)"
      ],
      "execution_count": null,
      "outputs": [
        {
          "output_type": "stream",
          "text": [
            "[[0.00404996]]\n"
          ],
          "name": "stdout"
        }
      ]
    },
    {
      "cell_type": "code",
      "metadata": {
        "id": "_YYub0EDtwCu",
        "colab": {
          "base_uri": "https://localhost:8080/",
          "height": 369
        },
        "outputId": "a46397d6-818e-4f62-9431-e4bcd64abe5b"
      },
      "source": [
        "plot_history(history2.history)\n",
        "plt.show()"
      ],
      "execution_count": null,
      "outputs": [
        {
          "output_type": "display_data",
          "data": {
            "image/png": "[encoded data removed]",
            "text/plain": [
              "<Figure size 720x360 with 2 Axes>"
            ]
          },
          "metadata": {
            "tags": [],
            "needs_background": "light"
          }
        }
      ]
    },
    {
      "cell_type": "markdown",
      "metadata": {
        "id": "DPV3Nn9xtwFM"
      },
      "source": [
        "## Plotting Performance Metrics \n",
        "\n",
        "We use Matplotlib to create 2 plots--displaying the training and validation loss (resp. accuracy) for each (training)"
      ]
    },
    {
      "cell_type": "code",
      "metadata": {
        "id": "N-NoyEADxNf1",
        "colab": {
          "base_uri": "https://localhost:8080/"
        },
        "outputId": "54899c26-1d95-4c4f-fe1d-31060fce6b68"
      },
      "source": [
        "history_dict2 = history2.history\n",
        "history_dict2.keys()"
      ],
      "execution_count": null,
      "outputs": [
        {
          "output_type": "execute_result",
          "data": {
            "text/plain": [
              "dict_keys(['loss', 'accuracy', 'val_loss', 'val_accuracy'])"
            ]
          },
          "metadata": {
            "tags": []
          },
          "execution_count": 96
        }
      ]
    },
    {
      "cell_type": "code",
      "metadata": {
        "id": "H-9hPfH4xNf3"
      },
      "source": [
        "acc = history2.history['accuracy']\n",
        "val_acc = history2.history['val_accuracy']\n",
        "loss = history2.history['loss']\n",
        "val_loss = history2.history['val_loss']"
      ],
      "execution_count": null,
      "outputs": []
    },
    {
      "cell_type": "code",
      "metadata": {
        "id": "StGwiiF2xNf4",
        "colab": {
          "base_uri": "https://localhost:8080/",
          "height": 295
        },
        "outputId": "1eee55a9-0bd2-435b-8626-0932b20e46e1"
      },
      "source": [
        "plt.plot(range(1, len(acc) + 1), history2.history['accuracy'], label = 'Training')\n",
        "plt.plot(range(1, len(val_acc) + 1), history2.history['val_accuracy'], label = 'Validation')\n",
        "plt.ylim([0.5, 1.0])\n",
        "plt.title('Training and Validation Accuracy')\n",
        "plt.xlabel('Epochs')\n",
        "plt.ylabel('Accuracy')\n",
        "plt.legend()\n",
        "plt.show()"
      ],
      "execution_count": null,
      "outputs": [
        {
          "output_type": "display_data",
          "data": {
            "image/png": "[encoded data removed]",
            "text/plain": [
              "<Figure size 432x288 with 1 Axes>"
            ]
          },
          "metadata": {
            "tags": [],
            "needs_background": "light"
          }
        }
      ]
    },
    {
      "cell_type": "code",
      "metadata": {
        "id": "wGj5pu2QxNf5",
        "colab": {
          "base_uri": "https://localhost:8080/",
          "height": 295
        },
        "outputId": "65409f51-1518-403a-e566-f225f465e75d"
      },
      "source": [
        "plt.plot(range(1, len(loss) + 1), history2.history['loss'], label = 'Training')\n",
        "plt.plot(range(1, len(val_loss) + 1), history2.history['val_loss'], label = 'Validation')\n",
        "plt.ylim([0.0, 0.7])\n",
        "plt.title('Training and Validation Loss')\n",
        "plt.xlabel('Epochs')\n",
        "plt.ylabel('Loss')\n",
        "plt.legend()\n",
        "plt.show()"
      ],
      "execution_count": null,
      "outputs": [
        {
          "output_type": "display_data",
          "data": {
            "image/png": "[encoded data removed]",
            "text/plain": [
              "<Figure size 432x288 with 1 Axes>"
            ]
          },
          "metadata": {
            "tags": [],
            "needs_background": "light"
          }
        }
      ]
    },
    {
      "cell_type": "code",
      "metadata": {
        "id": "ntLhwNCixNf7",
        "colab": {
          "base_uri": "https://localhost:8080/"
        },
        "outputId": "12d81897-9c7a-4ea6-cbdc-f8c7fb35e247"
      },
      "source": [
        "model2.predict(test_dataset)"
      ],
      "execution_count": null,
      "outputs": [
        {
          "output_type": "execute_result",
          "data": {
            "text/plain": [
              "array([[-3.088159 ],\n",
              "       [ 3.2782266],\n",
              "       [-3.2392519],\n",
              "       ...,\n",
              "       [-4.3971915],\n",
              "       [ 2.7856274],\n",
              "       [ 2.1251824]], dtype=float32)"
            ]
          },
          "metadata": {
            "tags": []
          },
          "execution_count": 50
        }
      ]
    },
    {
      "cell_type": "code",
      "metadata": {
        "id": "H-YZoEoHZyH2"
      },
      "source": [
        "tt= dataset['train']"
      ],
      "execution_count": null,
      "outputs": []
    },
    {
      "cell_type": "code",
      "metadata": {
        "id": "L87GgqgF03m8",
        "colab": {
          "base_uri": "https://localhost:8080/",
          "height": 163
        },
        "outputId": "e21bb462-4c66-48cf-b47c-d35cd0c87cf8"
      },
      "source": [
        "dataset['train']"
      ],
      "execution_count": null,
      "outputs": [
        {
          "output_type": "error",
          "ename": "TypeError",
          "evalue": "ignored",
          "traceback": [
            "\u001b[0;31m---------------------------------------------------------------------------\u001b[0m",
            "\u001b[0;31mTypeError\u001b[0m                                 Traceback (most recent call last)",
            "\u001b[0;32m<ipython-input-120-24ab57ac13db>\u001b[0m in \u001b[0;36m<module>\u001b[0;34m()\u001b[0m\n\u001b[0;32m----> 1\u001b[0;31m \u001b[0mdataset\u001b[0m\u001b[0;34m[\u001b[0m\u001b[0;34m'train'\u001b[0m\u001b[0;34m]\u001b[0m\u001b[0;34m[\u001b[0m\u001b[0;34m'label'\u001b[0m\u001b[0;34m]\u001b[0m\u001b[0;34m\u001b[0m\u001b[0;34m\u001b[0m\u001b[0m\n\u001b[0m",
            "\u001b[0;31mTypeError\u001b[0m: 'PrefetchDataset' object is not subscriptable"
          ]
        }
      ]
    },
    {
      "cell_type": "code",
      "metadata": {
        "id": "AE317DR7eu4r",
        "colab": {
          "base_uri": "https://localhost:8080/"
        },
        "outputId": "207d61b2-7017-482a-b128-f072a7d22c5a"
      },
      "source": [
        "next(iter(tt))"
      ],
      "execution_count": null,
      "outputs": [
        {
          "output_type": "execute_result",
          "data": {
            "text/plain": [
              "(<tf.Tensor: shape=(163,), dtype=int64, numpy=\n",
              " array([  62,   18,   41,  604,  927,   65,    3,  644, 7968,   21,   35,\n",
              "        5096,   36,   11,   43, 2948, 5240,  102,   50,  681, 7862, 1244,\n",
              "           3, 3266,   29,  122,  640,    2,   26,   14,  279,  438,   35,\n",
              "          79,  349,  384,   11, 1991,    3,  492,   79,  122,  188,  117,\n",
              "          33, 4047, 4531,   14,   65, 7968,    8, 1819, 3947,    3,   62,\n",
              "          27,    9,   41,  577, 5044, 2629, 2552, 7193, 7961, 3642,    3,\n",
              "          19,  107, 3903,  225,   85,  198,   72,    1, 1512,  738, 2347,\n",
              "         102, 6245,    8,   85,  308,   79, 6936, 7961,   23, 4981, 8044,\n",
              "           3, 6429, 7961, 1141, 1335, 1848, 4848,   55, 3601, 4217, 8050,\n",
              "           2,    5,   59, 3831, 1484, 8040, 7974,  174, 5773,   22, 5240,\n",
              "         102,   18,  247,   26,    4, 3903, 1612, 3902,  291,   11,    4,\n",
              "          27,   13,   18, 4092, 4008, 7961,    6,  119,  213, 2774,    3,\n",
              "          12,  258, 2306,   13,   91,   29,  171,   52,  229,    2, 1245,\n",
              "        5790,  995, 7968,    8,   52, 2948, 5240, 8039, 7968,    8,   74,\n",
              "        1249,    3,   12,  117, 2438, 1369,  192,   39, 7975])>,\n",
              " <tf.Tensor: shape=(), dtype=int64, numpy=0>)"
            ]
          },
          "metadata": {
            "tags": []
          },
          "execution_count": 118
        }
      ]
    },
    {
      "cell_type": "code",
      "metadata": {
        "id": "PBjWjylLumsd",
        "colab": {
          "base_uri": "https://localhost:8080/",
          "height": 69
        },
        "outputId": "b1b12ff9-01cd-459f-ff2c-dc174629c06a"
      },
      "source": [
        "encoder.decode([  62,   18,   41,  604,  927,   65,    3,  644, 7968,   21,   35,\n",
        "        5096,   36,   11,   43, 2948, 5240,  102,   50,  681, 7862, 1244,\n",
        "           3, 3266,   29,  122,  640,    2,   26,   14,  279,  438,   35,\n",
        "          79,  349,  384,   11, 1991,    3,  492,   79,  122,  188,  117,\n",
        "          33, 4047, 4531,   14,   65, 7968,    8, 1819, 3947,    3,   62,\n",
        "          27,    9,   41,  577, 5044, 2629, 2552, 7193, 7961, 3642,    3,\n",
        "          19,  107, 3903,  225,   85,  198,   72,    1, 1512,  738, 2347,\n",
        "         102, 6245,    8,   85,  308,   79, 6936, 7961,   23, 4981, 8044,\n",
        "           3, 6429, 7961, 1141, 1335, 1848, 4848,   55, 3601, 4217, 8050,\n",
        "           2,    5,   59, 3831, 1484, 8040, 7974,  174, 5773,   22, 5240,\n",
        "         102,   18,  247,   26,    4, 3903, 1612, 3902,  291,   11,    4,\n",
        "          27,   13,   18, 4092, 4008, 7961,    6,  119,  213, 2774,    3,\n",
        "          12,  258, 2306,   13,   91,   29,  171,   52,  229,    2, 1245,\n",
        "        5790,  995, 7968,    8,   52, 2948, 5240, 8039, 7968,    8,   74,\n",
        "        1249,    3,   12,  117, 2438, 1369,  192,   39, 7975])"
      ],
      "execution_count": null,
      "outputs": [
        {
          "output_type": "execute_result",
          "data": {
            "application/vnd.google.colaboratory.intrinsic+json": {
              "type": "string"
            },
            "text/plain": [
              "\"This was an absolutely terrible movie. Don't be lured in by Christopher Walken or Michael Ironside. Both are great actors, but this must simply be their worst role in history. Even their great acting could not redeem this movie's ridiculous storyline. This movie is an early nineties US propaganda piece. The most pathetic scenes were those when the Columbian rebels were making their cases for revolutions. Maria Conchita Alonso appeared phony, and her pseudo-love affair with Walken was nothing but a pathetic emotional plug in a movie that was devoid of any real meaning. I am disappointed that there are movies like this, ruining actor's like Christopher Walken's good name. I could barely sit through it.\""
            ]
          },
          "metadata": {
            "tags": []
          },
          "execution_count": 119
        }
      ]
    },
    {
      "cell_type": "code",
      "metadata": {
        "id": "wci8b4nMRaXl"
      },
      "source": [
        "nn = tfds.as_dataframe(train_dataset, info)"
      ],
      "execution_count": null,
      "outputs": []
    },
    {
      "cell_type": "code",
      "metadata": {
        "id": "EZoWMXjbRd8o",
        "colab": {
          "base_uri": "https://localhost:8080/",
          "height": 163
        },
        "outputId": "c88c4b02-ea15-4ec2-a08e-2067fd96f8e5"
      },
      "source": [
        "test = model2.predict(dataset['train'].take(10))"
      ],
      "execution_count": null,
      "outputs": [
        {
          "output_type": "error",
          "ename": "NameError",
          "evalue": "ignored",
          "traceback": [
            "\u001b[0;31m---------------------------------------------------------------------------\u001b[0m",
            "\u001b[0;31mNameError\u001b[0m                                 Traceback (most recent call last)",
            "\u001b[0;32m<ipython-input-32-ef68d7c30bfe>\u001b[0m in \u001b[0;36m<module>\u001b[0;34m()\u001b[0m\n\u001b[0;32m----> 1\u001b[0;31m \u001b[0mtest\u001b[0m \u001b[0;34m=\u001b[0m \u001b[0mmodel2\u001b[0m\u001b[0;34m.\u001b[0m\u001b[0mpredict\u001b[0m\u001b[0;34m(\u001b[0m\u001b[0mdataset\u001b[0m\u001b[0;34m[\u001b[0m\u001b[0;34m'train'\u001b[0m\u001b[0;34m]\u001b[0m\u001b[0;34m.\u001b[0m\u001b[0mtake\u001b[0m\u001b[0;34m(\u001b[0m\u001b[0;36m10\u001b[0m\u001b[0;34m)\u001b[0m\u001b[0;34m)\u001b[0m\u001b[0;34m\u001b[0m\u001b[0;34m\u001b[0m\u001b[0m\n\u001b[0m",
            "\u001b[0;31mNameError\u001b[0m: name 'model2' is not defined"
          ]
        }
      ]
    },
    {
      "cell_type": "code",
      "metadata": {
        "id": "DxdTM1DX1MKR"
      },
      "source": [
        "df_2test = tfds.as_dataframe(dataset['test'], info)"
      ],
      "execution_count": null,
      "outputs": []
    },
    {
      "cell_type": "code",
      "metadata": {
        "id": "m0_uv29b2XHJ"
      },
      "source": [
        ""
      ],
      "execution_count": null,
      "outputs": []
    },
    {
      "cell_type": "code",
      "metadata": {
        "id": "M9oN3LTZ3NPz"
      },
      "source": [
        "pre_test_2 = model2.predict(test_dataset)"
      ],
      "execution_count": null,
      "outputs": []
    },
    {
      "cell_type": "code",
      "metadata": {
        "id": "e11n3Sav3jol"
      },
      "source": [
        "pre_test_2 = np.where(pre_test_2>0.5, 1,0)"
      ],
      "execution_count": null,
      "outputs": []
    },
    {
      "cell_type": "code",
      "metadata": {
        "id": "Dmpr_fp780qL"
      },
      "source": [
        "y_test2 = np.array(df_2test['label'])"
      ],
      "execution_count": null,
      "outputs": []
    },
    {
      "cell_type": "code",
      "metadata": {
        "id": "XfMcg9CQ9FyR"
      },
      "source": [
        "cm_test2 = confusion_matrix(pre_test_2, y_test2)"
      ],
      "execution_count": null,
      "outputs": []
    },
    {
      "cell_type": "code",
      "metadata": {
        "id": "6kRE7L969ZvR",
        "colab": {
          "base_uri": "https://localhost:8080/",
          "height": 279
        },
        "outputId": "d2474470-ec55-41f3-aaea-6eacc0d2aa93"
      },
      "source": [
        "fig, ax = pcm(conf_mat=cm_test2, \n",
        "                               show_absolute=True,\n",
        "                                show_normed=True,\n",
        "                                colorbar=True,\n",
        "              \n",
        "                                )\n",
        "plt.show()"
      ],
      "execution_count": null,
      "outputs": [
        {
          "output_type": "display_data",
          "data": {
            "image/png": "[encoded data removed]",
            "text/plain": [
              "<Figure size 432x288 with 2 Axes>"
            ]
          },
          "metadata": {
            "tags": [],
            "needs_background": "light"
          }
        }
      ]
    },
    {
      "cell_type": "code",
      "metadata": {
        "id": "BiK8kEVO9kKA"
      },
      "source": [
        "from sklearn.metrics import classification_report"
      ],
      "execution_count": null,
      "outputs": []
    },
    {
      "cell_type": "code",
      "metadata": {
        "id": "cvlz4i0B9g5b",
        "colab": {
          "base_uri": "https://localhost:8080/"
        },
        "outputId": "e35e667f-c588-404a-b69d-d929b7bc75e9"
      },
      "source": [
        "print(classification_report(pre_test_2, y_test2))"
      ],
      "execution_count": null,
      "outputs": [
        {
          "output_type": "stream",
          "text": [
            "              precision    recall  f1-score   support\n",
            "\n",
            "           0       0.86      0.86      0.86     12562\n",
            "           1       0.85      0.86      0.86     12438\n",
            "\n",
            "    accuracy                           0.86     25000\n",
            "   macro avg       0.86      0.86      0.86     25000\n",
            "weighted avg       0.86      0.86      0.86     25000\n",
            "\n"
          ],
          "name": "stdout"
        }
      ]
    },
    {
      "cell_type": "code",
      "metadata": {
        "id": "RH3eH845ZId9"
      },
      "source": [
        "# train"
      ],
      "execution_count": null,
      "outputs": []
    },
    {
      "cell_type": "code",
      "metadata": {
        "id": "5yJwV23awYSH"
      },
      "source": [
        "df_2train = tfds.as_dataframe(dataset['train'], info)"
      ],
      "execution_count": null,
      "outputs": []
    },
    {
      "cell_type": "code",
      "metadata": {
        "id": "J7ygRp98wYSU"
      },
      "source": [
        ""
      ],
      "execution_count": null,
      "outputs": []
    },
    {
      "cell_type": "code",
      "metadata": {
        "id": "jA8FRn2jwYSZ"
      },
      "source": [
        "pre_train_2 = model2.predict(train_dataset)"
      ],
      "execution_count": null,
      "outputs": []
    },
    {
      "cell_type": "code",
      "metadata": {
        "id": "r55LfjlgwYSc"
      },
      "source": [
        "pre_train_2 = np.where(pre_train_2>0.5, 1,0)"
      ],
      "execution_count": null,
      "outputs": []
    },
    {
      "cell_type": "code",
      "metadata": {
        "id": "4L9q4BEZwYSf"
      },
      "source": [
        "y_train2 = np.array(df_2train['label'])"
      ],
      "execution_count": null,
      "outputs": []
    },
    {
      "cell_type": "code",
      "metadata": {
        "id": "Y-BwXlw4wYSj"
      },
      "source": [
        "cm_train2 = confusion_matrix(pre_train_2, y_train2)"
      ],
      "execution_count": null,
      "outputs": []
    },
    {
      "cell_type": "code",
      "metadata": {
        "id": "JGeFE-57wYSl",
        "colab": {
          "base_uri": "https://localhost:8080/",
          "height": 279
        },
        "outputId": "11ee15d4-40e6-414a-dcdd-79f665333d8a"
      },
      "source": [
        "fig, ax = pcm(conf_mat=cm_train2, \n",
        "                               show_absolute=True,\n",
        "                                show_normed=True,\n",
        "                                colorbar=True,\n",
        "              \n",
        "                                )\n",
        "plt.show()"
      ],
      "execution_count": null,
      "outputs": [
        {
          "output_type": "display_data",
          "data": {
            "image/png": "[encoded data removed]",
            "text/plain": [
              "<Figure size 432x288 with 2 Axes>"
            ]
          },
          "metadata": {
            "tags": [],
            "needs_background": "light"
          }
        }
      ]
    },
    {
      "cell_type": "code",
      "metadata": {
        "id": "neKrzAhJwYSn"
      },
      "source": [
        "from sklearn.metrics import classification_report"
      ],
      "execution_count": null,
      "outputs": []
    },
    {
      "cell_type": "code",
      "metadata": {
        "id": "bPqLh3ZywYSo",
        "colab": {
          "base_uri": "https://localhost:8080/"
        },
        "outputId": "acd8f05c-358a-48c0-a05f-51368b099b83"
      },
      "source": [
        "print(classification_report(pre_train_2, y_train2))"
      ],
      "execution_count": null,
      "outputs": [
        {
          "output_type": "stream",
          "text": [
            "              precision    recall  f1-score   support\n",
            "\n",
            "           0       0.99      0.99      0.99     12479\n",
            "           1       0.99      0.99      0.99     12521\n",
            "\n",
            "    accuracy                           0.99     25000\n",
            "   macro avg       0.99      0.99      0.99     25000\n",
            "weighted avg       0.99      0.99      0.99     25000\n",
            "\n"
          ],
          "name": "stdout"
        }
      ]
    },
    {
      "cell_type": "code",
      "metadata": {
        "id": "WH1mgy8bwYSp",
        "colab": {
          "base_uri": "https://localhost:8080/",
          "height": 111
        },
        "outputId": "e31b56d0-ce0c-474c-c052-3ac7d0748052"
      },
      "source": [
        "model_comp= pd.DataFrame({'Bidirectional layer': [1,2],\n",
        "              'Number of dense layer': [1,1],\n",
        "              \n",
        "              'Training Accuracy' :[99.16,98.89],\n",
        "              'Test Accuracy': [83.63, 85.72]\n",
        "    \n",
        "\n",
        "})\n",
        "model_comp.index= ['Model 1 RNN','Model 2 LSTM']\n",
        "\n",
        "model_comp"
      ],
      "execution_count": null,
      "outputs": [
        {
          "output_type": "execute_result",
          "data": {
            "text/html": [
              "<div>\n",
              "<style scoped>\n",
              "    .dataframe tbody tr th:only-of-type {\n",
              "        vertical-align: middle;\n",
              "    }\n",
              "\n",
              "    .dataframe tbody tr th {\n",
              "        vertical-align: top;\n",
              "    }\n",
              "\n",
              "    .dataframe thead th {\n",
              "        text-align: right;\n",
              "    }\n",
              "</style>\n",
              "<table border=\"1\" class=\"dataframe\">\n",
              "  <thead>\n",
              "    <tr style=\"text-align: right;\">\n",
              "      <th></th>\n",
              "      <th>Bidirectional layer</th>\n",
              "      <th>Number of dense layer</th>\n",
              "      <th>Training Accuracy</th>\n",
              "      <th>Test Accuracy</th>\n",
              "    </tr>\n",
              "  </thead>\n",
              "  <tbody>\n",
              "    <tr>\n",
              "      <th>Model 1 RNN</th>\n",
              "      <td>1</td>\n",
              "      <td>1</td>\n",
              "      <td>99.16</td>\n",
              "      <td>83.63</td>\n",
              "    </tr>\n",
              "    <tr>\n",
              "      <th>Model 2 LSTM</th>\n",
              "      <td>2</td>\n",
              "      <td>1</td>\n",
              "      <td>98.89</td>\n",
              "      <td>85.72</td>\n",
              "    </tr>\n",
              "  </tbody>\n",
              "</table>\n",
              "</div>"
            ],
            "text/plain": [
              "              Bidirectional layer  ...  Test Accuracy\n",
              "Model 1 RNN                     1  ...          83.63\n",
              "Model 2 LSTM                    2  ...          85.72\n",
              "\n",
              "[2 rows x 4 columns]"
            ]
          },
          "metadata": {
            "tags": []
          },
          "execution_count": 107
        }
      ]
    },
    {
      "cell_type": "code",
      "metadata": {
        "id": "P4Ot0IgXmdHS",
        "colab": {
          "base_uri": "https://localhost:8080/",
          "height": 204
        },
        "outputId": "239e16be-94b9-4ea3-fd8f-82ef0fe6d69c"
      },
      "source": [
        "df_2test.head()"
      ],
      "execution_count": null,
      "outputs": [
        {
          "output_type": "execute_result",
          "data": {
            "text/html": [
              "<div>\n",
              "<style scoped>\n",
              "    .dataframe tbody tr th:only-of-type {\n",
              "        vertical-align: middle;\n",
              "    }\n",
              "\n",
              "    .dataframe tbody tr th {\n",
              "        vertical-align: top;\n",
              "    }\n",
              "\n",
              "    .dataframe thead th {\n",
              "        text-align: right;\n",
              "    }\n",
              "</style>\n",
              "<table border=\"1\" class=\"dataframe\">\n",
              "  <thead>\n",
              "    <tr style=\"text-align: right;\">\n",
              "      <th></th>\n",
              "      <th>label</th>\n",
              "      <th>text</th>\n",
              "    </tr>\n",
              "  </thead>\n",
              "  <tbody>\n",
              "    <tr>\n",
              "      <th>0</th>\n",
              "      <td>1</td>\n",
              "      <td>[173, 29, 185, 13, 115, 1956, 8044, 3, 398, 12...</td>\n",
              "    </tr>\n",
              "    <tr>\n",
              "      <th>1</th>\n",
              "      <td>1</td>\n",
              "      <td>[133, 2237, 64, 1229, 1795, 6, 4, 615, 7974, 1...</td>\n",
              "    </tr>\n",
              "    <tr>\n",
              "      <th>2</th>\n",
              "      <td>0</td>\n",
              "      <td>[3567, 47, 3634, 7978, 7974, 7981, 2, 7998, 58...</td>\n",
              "    </tr>\n",
              "    <tr>\n",
              "      <th>3</th>\n",
              "      <td>0</td>\n",
              "      <td>[7128, 127, 2196, 2185, 1098, 1040, 687, 1145,...</td>\n",
              "    </tr>\n",
              "    <tr>\n",
              "      <th>4</th>\n",
              "      <td>1</td>\n",
              "      <td>[249, 4, 2256, 3293, 453, 3483, 7961, 5014, 12...</td>\n",
              "    </tr>\n",
              "  </tbody>\n",
              "</table>\n",
              "</div>"
            ],
            "text/plain": [
              "   label                                               text\n",
              "0      1  [173, 29, 185, 13, 115, 1956, 8044, 3, 398, 12...\n",
              "1      1  [133, 2237, 64, 1229, 1795, 6, 4, 615, 7974, 1...\n",
              "2      0  [3567, 47, 3634, 7978, 7974, 7981, 2, 7998, 58...\n",
              "3      0  [7128, 127, 2196, 2185, 1098, 1040, 687, 1145,...\n",
              "4      1  [249, 4, 2256, 3293, 453, 3483, 7961, 5014, 12..."
            ]
          },
          "metadata": {
            "tags": []
          },
          "execution_count": 104
        }
      ]
    }
  ]
}